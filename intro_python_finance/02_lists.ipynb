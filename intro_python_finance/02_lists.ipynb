{
 "cells": [
  {
   "cell_type": "markdown",
   "source": [
    "# Lists\n",
    "This chapter introduces lists in Python and how they can be used to work with data."
   ],
   "metadata": {
    "collapsed": false,
    "pycharm": {
     "name": "#%% md\n"
    }
   }
  },
  {
   "cell_type": "markdown",
   "source": [
    "#### Lists - square brackets [ ]\n",
    "A list in Python is identifiable when you see square brackets `[with items, or elements]` separated with commas.\n",
    "<br>\n",
    "#### Python is zero-indexed\n",
    "Each item in a python list takes an ordered position called an index. Python is zero-indexed, meaning that the first element in any list has an index of zero, and the second element has an index of 1, the third element is 2 and so on.\n",
    "<br>\n",
    "#### Subset lists\n",
    "You can subset elements of any list through a process called \"indexing\". To access an element of a list, you can use the integer representing the index position inside square brackets.\n",
    "Example: `list[2]`\n",
    "<br>\n",
    "#### Negative indexing of lists\n",
    "You can use a negative index to start counting from the end of a list.\n",
    "Example: `list[-1]`\n",
    "<br>\n",
    "#### Subsetting multiple list elements with slicing\n",
    "In many cases, you'll want to subset more than a single element of a list. This approach is called slicing. The slicing syntax to subset list elements uses the name of the list and a colon along with the indices you wish to manipulate between square brackets.\n",
    "Example: `list[start_at, end_before]`\n",
    "<br>\n",
    "#### Extended slicing with lists\n",
    "You can also indicate that you want to include elements from the beginning or to the very end of a list by not explicitly stating an index. Examples: `list[:3]`, `list[3:]`\n",
    "<br>\n",
    "#### Slicing with Steps\n",
    "At times, you may want to skip some elements when slicing a list. To do this, you could optionally include an additional argument to the slicing syntax called a step. The step is an integer value which determines the increment between each index for slicing.\n",
    "Example: `list[start_at, end_before, step]`"
   ],
   "metadata": {
    "collapsed": false,
    "pycharm": {
     "name": "#%% md\n"
    }
   }
  },
  {
   "cell_type": "markdown",
   "source": [
    "# Creating lists in Python\n",
    "A list in Python can contain any number of elements. You generally create a list using square brackets `[]`."
   ],
   "metadata": {
    "collapsed": false,
    "pycharm": {
     "name": "#%% md\n"
    }
   }
  },
  {
   "cell_type": "code",
   "execution_count": null,
   "outputs": [],
   "source": [
    "# Create list names\n",
    "names = ['Apple Inc', 'Coca-Cola', 'Walmart']\n",
    "names"
   ],
   "metadata": {
    "collapsed": false,
    "pycharm": {
     "name": "#%%\n"
    }
   }
  },
  {
   "cell_type": "code",
   "execution_count": null,
   "outputs": [],
   "source": [
    "# Create list prices\n",
    "prices = [159.54, 37.13, 71.17]\n",
    "prices"
   ],
   "metadata": {
    "collapsed": false,
    "pycharm": {
     "name": "#%%\n"
    }
   }
  },
  {
   "cell_type": "markdown",
   "source": [
    "#### Indexing list items\n",
    "Each item in a list has an assigned indexed value. Remember that Python is a zero indexed language, and the first element in a list is stored at index zero."
   ],
   "metadata": {
    "collapsed": false,
    "pycharm": {
     "name": "#%% md\n"
    }
   }
  },
  {
   "cell_type": "code",
   "execution_count": null,
   "outputs": [],
   "source": [
    "# Subset the first item in names\n",
    "names[0]"
   ],
   "metadata": {
    "collapsed": false,
    "pycharm": {
     "name": "#%%\n"
    }
   }
  },
  {
   "cell_type": "code",
   "execution_count": null,
   "outputs": [],
   "source": [
    "# Subset the second item in names\n",
    "names[1]"
   ],
   "metadata": {
    "collapsed": false,
    "pycharm": {
     "name": "#%%\n"
    }
   }
  },
  {
   "cell_type": "markdown",
   "source": [
    "#### Slicing multiple list elements\n",
    "Slicing operations on a list are used to subset multiple elements from a list. The syntax for list slicing is as follows: `list[start:end]`. Remember, this syntax indicates subsetting all elements **from the `start` and up to but not including the `end` element**.\n",
    "<br>\n",
    "Also, you can use extended slicing to efficiently select multiple elements from a list: `list[start:]`, `list[:end]`"
   ],
   "metadata": {
    "collapsed": false,
    "pycharm": {
     "name": "#%% md\n"
    }
   }
  },
  {
   "cell_type": "code",
   "execution_count": null,
   "outputs": [],
   "source": [
    "# Subset the last element in prices\n",
    "prices[-1]"
   ],
   "metadata": {
    "collapsed": false,
    "pycharm": {
     "name": "#%%\n"
    }
   }
  },
  {
   "cell_type": "code",
   "execution_count": null,
   "outputs": [],
   "source": [
    "# Use slicing on list names\n",
    "names_subset = names[1:]\n",
    "names_subset"
   ],
   "metadata": {
    "collapsed": false,
    "pycharm": {
     "name": "#%%\n"
    }
   }
  },
  {
   "cell_type": "code",
   "execution_count": null,
   "outputs": [],
   "source": [
    "# Use extended slicing on the list prices\n",
    "prices_subset = prices[:-1]\n",
    "prices_subset"
   ],
   "metadata": {
    "collapsed": false,
    "pycharm": {
     "name": "#%%\n"
    }
   }
  },
  {
   "cell_type": "markdown",
   "source": [
    "# Nested Lists\n",
    "A list can contain multiple data types and can be made up of strings, integers or floats, or some combination of strings and numbers.\n",
    "\n",
    "Additionally, a list can contain other lists. We call this a nested list. Here we have a list cpi that describes information about the consumer price index.\n",
    "<br>\n",
    "\n",
    "#### Stock up a nested list\n",
    "Lists can also contain other lists."
   ],
   "metadata": {
    "collapsed": false,
    "pycharm": {
     "name": "#%% md\n"
    }
   }
  },
  {
   "cell_type": "code",
   "execution_count": null,
   "outputs": [],
   "source": [
    "# Create nested list stocks\n",
    "stocks = [names, prices]\n",
    "stocks"
   ],
   "metadata": {
    "collapsed": false,
    "pycharm": {
     "name": "#%%\n"
    }
   }
  },
  {
   "cell_type": "code",
   "execution_count": null,
   "outputs": [],
   "source": [
    "# Use list indexing to obtain the list of prices\n",
    "stocks[1]"
   ],
   "metadata": {
    "collapsed": false,
    "pycharm": {
     "name": "#%%\n"
    }
   }
  },
  {
   "cell_type": "markdown",
   "source": [
    "#### Subset a nested list\n",
    "You can also extract an element from the list you extracted. To do this, you use two indices. The first index is the position of the list, and the second index is the position of the element within the list.\n"
   ],
   "metadata": {
    "collapsed": false,
    "pycharm": {
     "name": "#%% md\n"
    }
   }
  },
  {
   "cell_type": "code",
   "execution_count": null,
   "outputs": [],
   "source": [
    "# Use indexing to obtain company name Coca-Cola\n",
    "stocks[0][1]"
   ],
   "metadata": {
    "collapsed": false,
    "pycharm": {
     "name": "#%%\n"
    }
   }
  },
  {
   "cell_type": "code",
   "execution_count": null,
   "outputs": [],
   "source": [
    "# Use indexing to obtain 71.17\n",
    "stocks[1][2]"
   ],
   "metadata": {
    "collapsed": false,
    "pycharm": {
     "name": "#%%\n"
    }
   }
  },
  {
   "cell_type": "markdown",
   "source": [
    "# List Methods and Functions\n",
    "While all methods are functions in Python, not all functions are methods. There is a key difference between functions and methods. As we've seen, functions take objects as inputs or are \"passed\" an object. Methods, in contrast, act on objects. For example, the function `type()`, which tells us what data type a variable is, requires an input of an object like the list `prices`. Whereas the method `sort()` is \"called\" on a list named `prices`.\n",
    "<br>\n",
    "#### Exploring list methods and functions\n",
    "Lists methods and functions are useful for analyses. For lists, useful functions include `max()` and `min()`, which identify the maximum or minimum value in a list. A useful list method is `.sort()` which sorts the elements in a list."
   ],
   "metadata": {
    "collapsed": false,
    "pycharm": {
     "name": "#%% md\n"
    }
   }
  },
  {
   "cell_type": "code",
   "execution_count": null,
   "outputs": [],
   "source": [
    "# Print the sorted list prices\n",
    "prices = [159.54, 37.13, 71.17, 1705.54, 66.43, 1132.34]\n",
    "prices.sort()\n",
    "prices"
   ],
   "metadata": {
    "collapsed": false,
    "pycharm": {
     "name": "#%%\n"
    }
   }
  },
  {
   "cell_type": "code",
   "execution_count": null,
   "outputs": [],
   "source": [
    "# Find the maximum price in the list price\n",
    "prices = [159.54, 37.13, 71.17, 1705.54, 66.43, 1132.34]\n",
    "max_price = max(prices)\n",
    "max_price"
   ],
   "metadata": {
    "collapsed": false,
    "pycharm": {
     "name": "#%%\n"
    }
   }
  },
  {
   "cell_type": "markdown",
   "source": [
    "#### Using list methods to add data\n",
    "You can use the `.append()` and `.extend()` methods to add elements to a list.\n",
    "\n",
    "The `.append()` method increases the length of the list by one, so if you want to add only one element to the list, you can use this method.\n",
    "The `.extend()` method increases the length of the list by the number of elements that are provided to the method, so if you want to add multiple elements to the list, you can use this method."
   ],
   "metadata": {
    "collapsed": false,
    "pycharm": {
     "name": "#%% md\n"
    }
   }
  },
  {
   "cell_type": "code",
   "execution_count": null,
   "outputs": [],
   "source": [
    "# Append a name to the list names\n",
    "names.append('Amazon.com')\n",
    "names"
   ],
   "metadata": {
    "collapsed": false,
    "pycharm": {
     "name": "#%%\n"
    }
   }
  },
  {
   "cell_type": "code",
   "execution_count": null,
   "outputs": [],
   "source": [
    "# Extend list names\n",
    "more_elements = ['DowDuPont', 'Alphabet Inc']\n",
    "names.extend(more_elements)\n",
    "print(names)"
   ],
   "metadata": {
    "collapsed": false,
    "pycharm": {
     "name": "#%%\n"
    }
   }
  },
  {
   "cell_type": "markdown",
   "source": [
    "#### Finding stock with maximum price\n",
    "Another useful list method is `.index()`, which returns the index of the element specified."
   ],
   "metadata": {
    "collapsed": false,
    "pycharm": {
     "name": "#%% md\n"
    }
   }
  },
  {
   "cell_type": "code",
   "execution_count": null,
   "outputs": [],
   "source": [
    "# Identify index of max price\n",
    "max_index = prices.index(max_price)\n",
    "# max_index\n",
    "\n",
    "# Identify the name of the company with max price\n",
    "max_stock_name = names[max_index]\n",
    "# max_stock_name\n",
    "\n",
    "# Fill in the blanks\n",
    "print('The largest stock price is associated with ' + max_stock_name + ' and is $' + str(max_price) + '.')"
   ],
   "metadata": {
    "collapsed": false,
    "pycharm": {
     "name": "#%%\n"
    }
   }
  },
  {
   "cell_type": "code",
   "execution_count": null,
   "outputs": [],
   "source": [],
   "metadata": {
    "collapsed": false,
    "pycharm": {
     "name": "#%%\n"
    }
   }
  }
 ],
 "metadata": {
  "kernelspec": {
   "display_name": "Python 3",
   "language": "python",
   "name": "python3"
  },
  "language_info": {
   "codemirror_mode": {
    "name": "ipython",
    "version": 2
   },
   "file_extension": ".py",
   "mimetype": "text/x-python",
   "name": "python",
   "nbconvert_exporter": "python",
   "pygments_lexer": "ipython2",
   "version": "2.7.6"
  }
 },
 "nbformat": 4,
 "nbformat_minor": 0
}