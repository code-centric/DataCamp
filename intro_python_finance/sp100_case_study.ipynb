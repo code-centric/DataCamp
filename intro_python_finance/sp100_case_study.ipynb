{
 "cells": [
  {
   "cell_type": "markdown",
   "source": [
    "# S&P 100 Case Study\n",
    "A chance to apply all the techniques you learned in the course (Introduction to Python for Finance) on the S&P 100 data."
   ],
   "metadata": {
    "collapsed": false,
    "pycharm": {
     "name": "#%% md\n"
    }
   }
  },
  {
   "cell_type": "markdown",
   "source": [
    "#### Import Libraries and dependencies"
   ],
   "metadata": {
    "collapsed": false,
    "pycharm": {
     "name": "#%% md\n"
    }
   }
  },
  {
   "cell_type": "code",
   "execution_count": null,
   "outputs": [],
   "source": [
    "# Import matplotlib.pyplot with the alias plt\n",
    "import matplotlib.pyplot as plt\n",
    "%matplotlib inline\n",
    "\n",
    "# Import numpy a np\n",
    "import numpy as np\n",
    "\n",
    "# Import pandas with the alias pd\n",
    "import pandas as pd\n",
    "\n",
    "# needed to display plots in DataSpell IDE\n",
    "plt.rcParams['figure.dpi'] = 200"
   ],
   "metadata": {
    "collapsed": false,
    "pycharm": {
     "name": "#%%\n"
    }
   }
  },
  {
   "cell_type": "markdown",
   "source": [
    "# Introducing the dataset\n",
    "You're going to use what you've learned about Python to conduct a financial analysis of stocks for the companies in the Standard and Poor's S&P 100. The S&P 100 is a stock market index made up of one hundred major companies in the United States that span multiple industries.\n",
    "<br>\n",
    "#### S&P 100 Case Study\n",
    "Within the S&P 100, companies are associated with specific sectors. For example, the largest sector is made up of companies associated with the consumer discretionary sector. These include companies like Amazon.com and Nike. The next largest sectors are information technology, healthcare, and financial sectors.\n",
    "<br>\n",
    "In this case study, we'll be analyzing all the S&P 100 companies as well as sector specific companies.\n",
    "<br>\n",
    "#### The data\n",
    "For each company, we have data on its name, sector, stock price, and earnings per share, abbreviated EPS. The earnings per share is the profit for each share of stock. Our objective for the first part of our case study is to analyze growth expectations of companies within the S&P 100 by calculating the price to earnings ratio of each company.\n",
    "<br>\n",
    "#### Price to Earnings Ratio\n",
    "The price to earnings ratio is used to measure growth expectations of stocks. It is the dollar amount you can expect to invest in a company in order to receive one dollar of the company's earnings. Mathematically, it is the `price per stock share` divided by its `earnings per share`. A higher P/E ratio is generally associated with higher growth expectations."
   ],
   "metadata": {
    "collapsed": false,
    "pycharm": {
     "name": "#%% md\n"
    }
   }
  },
  {
   "cell_type": "markdown",
   "source": [
    "# Lists\n",
    "Stocks in the S&P 100 are selected to represent sector balance and market capitalization. To begin, let's take a look at what data we have associated with S&P companies."
   ],
   "metadata": {
    "collapsed": false,
    "pycharm": {
     "name": "#%% md\n"
    }
   }
  },
  {
   "cell_type": "code",
   "execution_count": null,
   "outputs": [],
   "source": [
    "# Read data from csv\n",
    "sp100_csv = pd.read_csv('../data/sp100_data.csv')"
   ],
   "metadata": {
    "collapsed": false,
    "pycharm": {
     "name": "#%%\n"
    }
   }
  },
  {
   "cell_type": "code",
   "execution_count": null,
   "outputs": [],
   "source": [
    "# Convert csv data to lists\n",
    "names = sp100_csv['Name'].tolist()\n",
    "sectors = sp100_csv['Sector'].tolist()\n",
    "prices = sp100_csv['Price'].tolist()\n",
    "earnings = sp100_csv['EPS'].tolist()\n",
    "\n",
    "# First four items of names\n",
    "print(names[:4])\n",
    "\n",
    "# Print information on last company\n",
    "print(names[-1])\n",
    "print(prices[-1])\n",
    "print(earnings[-1])\n",
    "print(sectors[-1])"
   ],
   "metadata": {
    "collapsed": false,
    "pycharm": {
     "name": "#%%\n"
    }
   }
  },
  {
   "cell_type": "markdown",
   "source": [
    "# Arrays and NumPy\n",
    "NumPy is a scientific computing package in Python that helps you to work with arrays. Let's use array operations to calculate price to earning ratios of the S&P 100 stocks."
   ],
   "metadata": {
    "collapsed": false,
    "pycharm": {
     "name": "#%% md\n"
    }
   }
  },
  {
   "cell_type": "code",
   "execution_count": null,
   "outputs": [],
   "source": [
    "# Convert lists to arrays\n",
    "prices_array = np.array(prices)\n",
    "earnings_array = np.array(earnings)\n",
    "\n",
    "# Calculate P/E ratio\n",
    "price_to_earnings_ratio = prices_array / earnings_array\n",
    "print(price_to_earnings_ratio)"
   ],
   "metadata": {
    "collapsed": false,
    "pycharm": {
     "name": "#%%\n"
    }
   }
  },
  {
   "cell_type": "markdown",
   "source": [
    "# A closer look at the sectors\n",
    "Now that you have successfully calculated the price to earnings ratios of all companies within the S&P 100, let's look at sector specific trends. First, we will need to subset sector-specific datasets from the larger S&P dataset. Let's review how we can filter out specific information from a larger array.\n",
    " 1. Create a boolean filtering array\n",
    "    - Remember that boolean arrays can be used to manipulate other arrays. To create a boolean array, you can perform a conditional test. This conditional test is performed on each element of the array and a boolean result is returned in an array. This boolean array can then be used for filtering.\n",
    " 2. Apply filtering array to subset another array\n",
    "     - Once you have your boolean array, you can use it on another array to select specific elements. In this case study, you will need to use filtering arrays to subset P/E ratios that are associated with specific sectors in the S&P 100.\n",
    " 3. Summarize P/E ratios\n",
    "    - Once you subset the P/E ratios for specific sectors, you can use numpy functions to calculate their average and standard deviation."
   ],
   "metadata": {
    "collapsed": false,
    "pycharm": {
     "name": "#%% md\n"
    }
   }
  },
  {
   "cell_type": "markdown",
   "source": [
    "# Filtering arrays\n",
    "In this, you will focus on two sectors:\n",
    "- Information Technology\n",
    "- Consumer Staples"
   ],
   "metadata": {
    "collapsed": false,
    "pycharm": {
     "name": "#%% md\n"
    }
   }
  },
  {
   "cell_type": "code",
   "execution_count": null,
   "outputs": [],
   "source": [
    "# Convert lists to numpy arrays\n",
    "names_array = np.array(names)\n",
    "sectors_array = np.array(sectors)\n",
    "price_to_earnings_ratio_array = np.array(price_to_earnings_ratio)"
   ],
   "metadata": {
    "collapsed": false,
    "pycharm": {
     "name": "#%%\n"
    }
   }
  },
  {
   "cell_type": "code",
   "execution_count": null,
   "outputs": [],
   "source": [
    "# Create boolean array\n",
    "boolean_array = (sectors_array == 'Information Technology')\n",
    "\n",
    "# Subset sector-specific data\n",
    "info_tech_names = names_array[boolean_array]\n",
    "info_tech_price_to_earnings_ratio = price_to_earnings_ratio_array[boolean_array]\n",
    "\n",
    "# Display sector names\n",
    "print(info_tech_names)\n",
    "print(info_tech_price_to_earnings_ratio)"
   ],
   "metadata": {
    "collapsed": false,
    "pycharm": {
     "name": "#%%\n"
    }
   }
  },
  {
   "cell_type": "code",
   "execution_count": null,
   "outputs": [],
   "source": [
    "# Create boolean array\n",
    "boolean_array = (sectors_array == 'Consumer Staples')\n",
    "\n",
    "# Subset sector-specific data\n",
    "consumer_staples_names = names_array[boolean_array]\n",
    "consumer_staples_price_to_earnings_ratio = price_to_earnings_ratio_array[boolean_array]\n",
    "\n",
    "# Display sector names\n",
    "print(consumer_staples_names)\n",
    "print(consumer_staples_price_to_earnings_ratio)"
   ],
   "metadata": {
    "collapsed": false,
    "pycharm": {
     "name": "#%%\n"
    }
   }
  },
  {
   "cell_type": "markdown",
   "source": [
    "# Summarizing sector data\n",
    "Calculate the mean and standard deviation of P/E ratios for Information Technology and Consumer Staples sectors."
   ],
   "metadata": {
    "collapsed": false,
    "pycharm": {
     "name": "#%% md\n"
    }
   }
  },
  {
   "cell_type": "code",
   "execution_count": null,
   "outputs": [],
   "source": [
    "# Calculate mean and standard deviation\n",
    "info_tech_price_to_earnings_ratio_mean = np.mean(info_tech_price_to_earnings_ratio)\n",
    "info_tech_price_to_earnings_ratio_std = np.std(info_tech_price_to_earnings_ratio)\n",
    "\n",
    "print('Information Technology P/E ratio')\n",
    "print(f'mean: {info_tech_price_to_earnings_ratio_mean}')\n",
    "print(f'std: {info_tech_price_to_earnings_ratio_std}')"
   ],
   "metadata": {
    "collapsed": false,
    "pycharm": {
     "name": "#%%\n"
    }
   }
  },
  {
   "cell_type": "code",
   "execution_count": null,
   "outputs": [],
   "source": [
    "# Calculate mean and standard deviation\n",
    "consumer_staples_price_to_earnings_ratio_mean = np.mean(consumer_staples_price_to_earnings_ratio)\n",
    "consumer_staples_price_to_earnings_ratio_std = np.std(consumer_staples_price_to_earnings_ratio)\n",
    "\n",
    "print('Consumer Staples P/E ratio')\n",
    "print(f'mean: {consumer_staples_price_to_earnings_ratio_mean}')\n",
    "print(f'std: {consumer_staples_price_to_earnings_ratio_std}')"
   ],
   "metadata": {
    "collapsed": false,
    "pycharm": {
     "name": "#%%\n"
    }
   }
  },
  {
   "cell_type": "markdown",
   "source": [
    "# Plot P/E ratios\n",
    "Let's take a closer look at the P/E ratios using a scatter plot for each company in these two sectors. Also, each company name has been assigned a numeric ID contained in the arrays `info_tech_id` and `consumer_staples_id`."
   ],
   "metadata": {
    "collapsed": false,
    "pycharm": {
     "name": "#%% md\n"
    }
   }
  },
  {
   "cell_type": "code",
   "execution_count": null,
   "outputs": [],
   "source": [
    "info_tech_id = np.arange(0, 15)\n",
    "consumer_staples_id = np.arange(0, 12)"
   ],
   "metadata": {
    "collapsed": false,
    "pycharm": {
     "name": "#%%\n"
    }
   }
  },
  {
   "cell_type": "code",
   "execution_count": null,
   "outputs": [],
   "source": [
    "# Make a scatterplot\n",
    "plt.scatter(info_tech_id, info_tech_price_to_earnings_ratio, color='blue', label='Info Tech')\n",
    "plt.scatter(consumer_staples_id, consumer_staples_price_to_earnings_ratio, color='orange', label='Consumer Staples')\n",
    "\n",
    "# Add legend\n",
    "plt.legend()\n",
    "\n",
    "# Add labels\n",
    "plt.xlabel('Company ID')\n",
    "plt.ylabel('P/E Ratio')\n",
    "plt.show()"
   ],
   "metadata": {
    "collapsed": false,
    "pycharm": {
     "name": "#%%\n"
    }
   }
  },
  {
   "cell_type": "markdown",
   "source": [
    "# Visualizing Trends\n",
    "In your scatterplot, did you notice that there is a ratio that is higher than the others? An outlier? In this part of the case study, let's take a closer look to determine the name of the company.\n",
    "\n",
    "1. Make a histogram\n",
    "    - Remember that histograms can help you look at the spread of data. As a first step to taking a closer look at the IT sector, let's make a histogram of its price to earnings ratios. To plot a histogram, you can use the `hist()` function from the `pyplot` module. You'll also need to define the number of `bins` for the histogram plot.\n",
    "2. Identify the Outlier\n",
    "    - Based on the histogram, you'll look to identify the P/E ratio outlier. Based on this PE ratio, you can subset this company's specific data. The final step in this case study is to identify the name of the company that is associated with an abnormally high P/E ratio within the IT sector."
   ],
   "metadata": {
    "collapsed": false,
    "pycharm": {
     "name": "#%% md\n"
    }
   }
  },
  {
   "cell_type": "markdown",
   "source": [
    "# Histogram of P/E ratios\n",
    "To visualize and understand the distribution of the P/E ratios in the IT sector, you can use a histogram."
   ],
   "metadata": {
    "collapsed": false,
    "pycharm": {
     "name": "#%% md\n"
    }
   }
  },
  {
   "cell_type": "code",
   "execution_count": null,
   "outputs": [],
   "source": [
    "# Plot histogram\n",
    "plt.hist(info_tech_price_to_earnings_ratio, bins=8)\n",
    "\n",
    "# Add x-label\n",
    "plt.xlabel('P/E ratio')\n",
    "\n",
    "# Add y-label\n",
    "plt.ylabel('Frequency')\n",
    "\n",
    "# Show plot\n",
    "plt.show()"
   ],
   "metadata": {
    "collapsed": false,
    "pycharm": {
     "name": "#%%\n"
    }
   }
  },
  {
   "cell_type": "markdown",
   "source": [
    "# Name the outlier\n",
    "You've identified that a company in the Information Technology sector has a P/E ratio of greater than 50. Let's identify this company."
   ],
   "metadata": {
    "collapsed": false,
    "pycharm": {
     "name": "#%% md\n"
    }
   }
  },
  {
   "cell_type": "code",
   "execution_count": null,
   "outputs": [],
   "source": [
    "# Identify P/E ratio within info_tech_price_to_earnings_ratio that is > 50\n",
    "outlier_price = info_tech_price_to_earnings_ratio[info_tech_price_to_earnings_ratio > 50]\n",
    "\n",
    "# Identify the company with PE ratio > 50\n",
    "outlier_name = info_tech_names[info_tech_price_to_earnings_ratio > 50]\n",
    "\n",
    "# Display results\n",
    "print(\"In 2017, \" + str(outlier_name[0]) + \" had an abnormally high P/E ratio of \" + str(round(outlier_price[0], 2)) + \".\")"
   ],
   "metadata": {
    "collapsed": false,
    "pycharm": {
     "name": "#%%\n"
    }
   }
  }
 ],
 "metadata": {
  "kernelspec": {
   "display_name": "Python 3",
   "language": "python",
   "name": "python3"
  },
  "language_info": {
   "codemirror_mode": {
    "name": "ipython",
    "version": 2
   },
   "file_extension": ".py",
   "mimetype": "text/x-python",
   "name": "python",
   "nbconvert_exporter": "python",
   "pygments_lexer": "ipython2",
   "version": "2.7.6"
  }
 },
 "nbformat": 4,
 "nbformat_minor": 0
}