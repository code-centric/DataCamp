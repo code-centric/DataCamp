{
 "cells": [
  {
   "cell_type": "markdown",
   "source": [
    "# Representing time with datetime\n",
    "Python's Standard Library includes the `datetime` module which includes some useful time and date related functionality. To represent a specific time, you can use `datetime` objects. These objects have attributes representing the year, month, date, hour, second, microsecond, and timezone. In order to create a `datetime` object, you must at least provide the `year`, `month`, and `date`."
   ],
   "metadata": {
    "collapsed": false,
    "pycharm": {
     "name": "#%% md\n"
    }
   }
  },
  {
   "cell_type": "markdown",
   "source": [
    "#### Import libraries and other dependencies"
   ],
   "metadata": {
    "collapsed": false,
    "pycharm": {
     "name": "#%% md\n"
    }
   }
  },
  {
   "cell_type": "code",
   "execution_count": null,
   "outputs": [],
   "source": [
    "import datetime\n",
    "from datetime import timedelta"
   ],
   "metadata": {
    "collapsed": false,
    "pycharm": {
     "name": "#%%\n"
    }
   }
  },
  {
   "cell_type": "markdown",
   "source": [
    "# Creating datetimes for dates\n",
    "Imagine that as a financial analyst, you are trying to understand the history of market crashes. In order to represent crashes in your code, you want to represent the times that they occurred. Two significant market crashes are the Kennedy Slide, also known as the Flash Crash, which started May 28, 1962, and the Black Monday crash of October 19th, 1987."
   ],
   "metadata": {
    "collapsed": false,
    "pycharm": {
     "name": "#%% md\n"
    }
   }
  },
  {
   "cell_type": "code",
   "execution_count": null,
   "outputs": [],
   "source": [
    "# Date and time now\n",
    "now = datetime.datetime.now()\n",
    "print(f'Date & Time: {now}')\n",
    "\n",
    "# Flash crash May 28, 1962\n",
    "flash_crash = datetime.datetime(1962, 5, 28)\n",
    "print(f'Flash Crash: {flash_crash}')\n",
    "\n",
    "# Black Monday Oct 19, 1987\n",
    "black_monday = datetime.datetime(1987, 10, 19)\n",
    "print(f'Black Friday: {black_monday}')\n"
   ],
   "metadata": {
    "collapsed": false,
    "pycharm": {
     "name": "#%%\n"
    }
   }
  },
  {
   "cell_type": "markdown",
   "source": [
    "You have constructed datetimes both for the current time and for historical dates. Since you did not specify the `hour`, `minute`, or `seconds` for these dates, these defaulted to `00:00:00`."
   ],
   "metadata": {
    "collapsed": false,
    "pycharm": {
     "name": "#%% md\n"
    }
   }
  },
  {
   "cell_type": "markdown",
   "source": [
    "# Datetimes from strings\n",
    "Often you get dates in different formats. There are many sources of data that represent dates as strings. Scraping web pages, user input, and text files are just a few. The __[format strings](https://www.w3schools.com/python/python_datetime.asp)__ for mapping datetimes are can be found at `strftime`. Suppose that you have found dates for the mini-crash of October 1989, given as the string `crash_text`, and the recession of July 3rd 1990, given as the string `recession_text`, in different formats. How would you represent both in your Python code?"
   ],
   "metadata": {
    "collapsed": false,
    "pycharm": {
     "name": "#%% md\n"
    }
   }
  },
  {
   "cell_type": "code",
   "execution_count": null,
   "outputs": [],
   "source": [
    "crash_text = \"Friday the 13th, Oct, 1989\"\n",
    "\n",
    "# Create a format string mapping the text\n",
    "crash_format_str = \"%A the %dth, %b, %Y\"\n",
    "min_crash = datetime.datetime.strptime(crash_text, crash_format_str)\n",
    "print(min_crash)"
   ],
   "metadata": {
    "collapsed": false,
    "pycharm": {
     "name": "#%%\n"
    }
   }
  },
  {
   "cell_type": "code",
   "execution_count": null,
   "outputs": [],
   "source": [
    "recession_text = \"07/03/90\"\n",
    "\n",
    "# Create format string\n",
    "recession_format_str = \"%m/%d/%y\"\n",
    "\n",
    "# Create datetime from text using format string\n",
    "nineties_rec = datetime.datetime.strptime(recession_text, recession_format_str)\n",
    "print(nineties_rec)"
   ],
   "metadata": {
    "collapsed": false,
    "pycharm": {
     "name": "#%%\n"
    }
   }
  },
  {
   "cell_type": "markdown",
   "source": [
    "Creating datetimes from strings is an important skill for analyzing financial data. It enables you to take dates and time from text sources with different formats and use them in your code."
   ],
   "metadata": {
    "collapsed": false,
    "pycharm": {
     "name": "#%% md\n"
    }
   }
  },
  {
   "cell_type": "markdown",
   "source": [
    "# Converting format with datetimes\n",
    "With datetimes, you can read a string with one format and output a string with a different format. This means that you can use datetimes to change the format of string dates. The __[format strings](https://www.w3schools.com/python/python_datetime.asp)__ for mapping datetimes are can be found at `strftime`. Let's say you are asked to process the date of the British Black Wednesday crash into a new format that fits the reporting needs of your company."
   ],
   "metadata": {
    "collapsed": false,
    "pycharm": {
     "name": "#%% md\n"
    }
   }
  },
  {
   "cell_type": "code",
   "execution_count": null,
   "outputs": [],
   "source": [
    "org_text = \"Sep 16 1992\"\n",
    "\n",
    "# Format string for original text\n",
    "org_format = \"%b %d %Y\"\n",
    "\n",
    "# Create datetime for Black Wednesday\n",
    "black_wednesday = datetime.datetime.strptime(org_text, org_format)\n",
    "print(black_wednesday)\n",
    "\n",
    "# New format: 'Wednesday, September 16, 1992'\n",
    "new_format = '%A, %B %d, %Y'\n",
    "\n",
    "# String in new format\n",
    "new_text = black_wednesday.strftime(new_format)\n",
    "print(new_text)"
   ],
   "metadata": {
    "collapsed": false,
    "pycharm": {
     "name": "#%%\n"
    }
   }
  },
  {
   "cell_type": "markdown",
   "source": [
    "# Working with datetimes\n",
    "Now that you know how to create datetimes using different methods let us look at some things you can do with them."
   ],
   "metadata": {
    "collapsed": false,
    "pycharm": {
     "name": "#%% md\n"
    }
   }
  },
  {
   "cell_type": "markdown",
   "source": [
    "# Accessing datetime attributes\n",
    "Suppose you are analyzing the tech bubble crash of 2000. For the sake of reporting, you need to assign the year, month, and day values to variables.\n",
    "\n",
    "Use the attributes of a datetime object to assign the correct values to these variables."
   ],
   "metadata": {
    "collapsed": false,
    "pycharm": {
     "name": "#%% md\n"
    }
   }
  },
  {
   "cell_type": "code",
   "execution_count": null,
   "outputs": [],
   "source": [
    "# March 10, 2000 Tech Bubble Crash\n",
    "tech_bubble = datetime.datetime(2000, 3, 10)\n",
    "\n",
    "# Access the year\n",
    "yr = tech_bubble.year\n",
    "\n",
    "# Access the month\n",
    "mth = tech_bubble.month\n",
    "\n",
    "# Access the day\n",
    "day = tech_bubble.day\n",
    "\n",
    "print(f'Year: {yr}, Month: {mth}, Day: {day}')"
   ],
   "metadata": {
    "collapsed": false,
    "pycharm": {
     "name": "#%%\n"
    }
   }
  },
  {
   "cell_type": "markdown",
   "source": [
    "These attributes come in handy when you want to use parts of a datetime separately, such as when you want to compare only the years of two dates."
   ],
   "metadata": {
    "collapsed": false,
    "pycharm": {
     "name": "#%% md\n"
    }
   }
  },
  {
   "cell_type": "markdown",
   "source": [
    "# Comparing datetimes\n",
    "Imagine that you are trying to understand the events that made up the turbulent subprime crisis of 2008. You have a datetimes for some important dates. These include Lehman Brothers declaring bankruptcy, the passage of the TARP bill, and the movement of Goldman Sachs and Morgan Stanley out of investment banking."
   ],
   "metadata": {
    "collapsed": false,
    "pycharm": {
     "name": "#%% md\n"
    }
   }
  },
  {
   "cell_type": "code",
   "execution_count": null,
   "outputs": [],
   "source": [
    "lehman = datetime.datetime(2008, 9, 15)\n",
    "morgan_stanley = datetime.datetime(2008, 9, 22)\n",
    "goldman_sachs = datetime.datetime(2008, 9, 22)\n",
    "tarp = datetime.datetime(2008, 10, 3)"
   ],
   "metadata": {
    "collapsed": false,
    "pycharm": {
     "name": "#%%\n"
    }
   }
  },
  {
   "cell_type": "code",
   "execution_count": null,
   "outputs": [],
   "source": [
    "# Lehman Brothers before Morgan Stanley?\n",
    "lehman_first = lehman < morgan_stanley\n",
    "\n",
    "print(f\"It is {lehman_first} that Lehman Brothers declared bankruptcy first.\")"
   ],
   "metadata": {
    "collapsed": false,
    "pycharm": {
     "name": "#%%\n"
    }
   }
  },
  {
   "cell_type": "code",
   "execution_count": null,
   "outputs": [],
   "source": [
    "# Goldman Sachs after TARP?\n",
    "tarp_first = goldman_sachs > tarp\n",
    "\n",
    "print(f\"It is {tarp_first} that TARP was approved first.\")"
   ],
   "metadata": {
    "collapsed": false,
    "pycharm": {
     "name": "#%%\n"
    }
   }
  },
  {
   "cell_type": "code",
   "execution_count": null,
   "outputs": [],
   "source": [
    "# Goldman Sachs and Morgan Stanley same day?\n",
    "same_time = goldman_sachs == morgan_stanley\n",
    "\n",
    "print(f\"It is {same_time} that Morgan Stanley and Goldman Sachs acted simultaneously.\")"
   ],
   "metadata": {
    "collapsed": false,
    "pycharm": {
     "name": "#%%\n"
    }
   }
  },
  {
   "cell_type": "markdown",
   "source": [
    "Comparing datetimes is very helpful when you want to understand the order of events. As you see, Goldman Sachs and Morgan Stanley announced their exits from investment banking on the same day."
   ],
   "metadata": {
    "collapsed": false,
    "pycharm": {
     "name": "#%% md\n"
    }
   }
  },
  {
   "cell_type": "markdown",
   "source": [
    "# Making relative datetimes\n",
    "The Troubled Asset Relief Program (TARP) was passed in October 2008 in an attempt to stabilize the US financial system during the crisis of 2007-2008. To investigate the state of markets before and after the passage of TARP, you wish to create some datetimes for times before and after."
   ],
   "metadata": {
    "collapsed": false,
    "pycharm": {
     "name": "#%% md\n"
    }
   }
  },
  {
   "cell_type": "code",
   "execution_count": null,
   "outputs": [],
   "source": [
    "# TARP passed Oct 3 2008\n",
    "tarp = datetime.datetime(2008, 10, 3)\n",
    "\n",
    "# Seven days before TARP\n",
    "week_before = tarp - timedelta(days = 7)\n",
    "\n",
    "# Print week_before\n",
    "print(week_before)"
   ],
   "metadata": {
    "collapsed": false,
    "pycharm": {
     "name": "#%%\n"
    }
   }
  },
  {
   "cell_type": "code",
   "execution_count": null,
   "outputs": [],
   "source": [
    "# TARP passed Oct 3 2008\n",
    "tarp = datetime.datetime(2008, 10, 3)\n",
    "\n",
    "# One week after TARP\n",
    "week_after = tarp + timedelta(weeks = 1)\n",
    "\n",
    "# Print week_after\n",
    "print(week_after)"
   ],
   "metadata": {
    "collapsed": false,
    "pycharm": {
     "name": "#%%\n"
    }
   }
  },
  {
   "cell_type": "code",
   "execution_count": null,
   "outputs": [],
   "source": [
    "# TARP passed Oct 3 2008\n",
    "tarp = datetime.datetime(2008, 10, 3)\n",
    "\n",
    "# One year after TARP\n",
    "year_after = tarp + timedelta(weeks = 52)\n",
    "\n",
    "# Print year_after\n",
    "print(year_after)"
   ],
   "metadata": {
    "collapsed": false,
    "pycharm": {
     "name": "#%%\n"
    }
   }
  },
  {
   "cell_type": "markdown",
   "source": [
    "Now you can begin writing code that takes any datetime and calculates datetimes relative to it. This is a big step towards automating your analyzing and reporting tasks."
   ],
   "metadata": {
    "collapsed": false,
    "pycharm": {
     "name": "#%% md\n"
    }
   }
  },
  {
   "cell_type": "markdown",
   "source": [
    "# Dictionaries\n",
    "Now let's look at one of the most used data structures in Python, the dictionary."
   ],
   "metadata": {
    "collapsed": false,
    "pycharm": {
     "name": "#%% md\n"
    }
   }
  },
  {
   "cell_type": "markdown",
   "source": [
    "# Creating and accessing dictionaries\n",
    "The CUSIP number is a nine-digit alphanumeric number used to identify most securities owned by American and Canadian companies. Let's suppose that in your work at a FinTech startup, you are tasked with writing reports for clients. Your internal reports use CUSIP numbers, but your clients need to see stock symbols. Create a mapping of CUSIP numbers to stock symbols that makes it easy to do lookups. A dictionary is an ideal data structure for this kind of mapping as it lets you do fast lookups based on a key-value (the CUSIP number in this case)."
   ],
   "metadata": {
    "collapsed": false,
    "pycharm": {
     "name": "#%% md\n"
    }
   }
  },
  {
   "cell_type": "code",
   "execution_count": null,
   "outputs": [],
   "source": [
    "cusip_lookup = {}\n",
    "\n",
    "# Alphabet\n",
    "cusip_lookup['38259P706'] = 'GOOG'\n",
    "\n",
    "# Apple\n",
    "cusip_lookup['037833100'] = 'AAPL'\n",
    "\n",
    "print(cusip_lookup)"
   ],
   "metadata": {
    "collapsed": false,
    "pycharm": {
     "name": "#%%\n"
    }
   }
  },
  {
   "cell_type": "code",
   "execution_count": null,
   "outputs": [],
   "source": [
    "# Lookup Apple\n",
    "cusip_lookup['037833100']"
   ],
   "metadata": {
    "collapsed": false,
    "pycharm": {
     "name": "#%%\n"
    }
   }
  },
  {
   "cell_type": "markdown",
   "source": [
    "You could use this to translate internal reports using CUSIP number to client reports using symbols."
   ],
   "metadata": {
    "collapsed": false,
    "pycharm": {
     "name": "#%% md\n"
    }
   }
  },
  {
   "cell_type": "markdown",
   "source": [
    "# Accessing safely and deleting\n",
    "Alphabet Inc. was formed in 2015 as part of a corporate restructuring of Google. Analyzing the change in stock prices over time is a common task in the world of finance. One way to store stock data is to use the dates as keys and the prices as values in a dictionary. In this exercise, you access stock closing price data for the company Alphabet for various dates without knowing beforehand if each date has data available. The supplied dictionary `alphabet_hist` has `datetime`s as keys and stock closing prices as values. A `datetime` object named `closing_price_date` is supplied."
   ],
   "metadata": {
    "collapsed": false,
    "pycharm": {
     "name": "#%% md\n"
    }
   }
  },
  {
   "cell_type": "code",
   "execution_count": null,
   "outputs": [],
   "source": [
    "closing_price_date = datetime.datetime(2019, 8, 2)\n",
    "alphabet_hist = {datetime.datetime(2019, 8, 2, 0, 0): 1196.32,\n",
    "                 datetime.datetime(2019, 8, 1, 0, 0): 1211.78,\n",
    "                 datetime.datetime(2019, 7, 31, 0, 0): 1218.2,\n",
    "                 datetime.datetime(2019, 7, 30, 0, 0): 1228}"
   ],
   "metadata": {
    "collapsed": false,
    "pycharm": {
     "name": "#%%\n"
    }
   }
  },
  {
   "cell_type": "code",
   "execution_count": null,
   "outputs": [],
   "source": [
    "# Closing price for day before\n",
    "day_before_closing_price_date = closing_price_date - timedelta(days=1)\n",
    "\n",
    "# Safely print closing price day before or None if it's missing\n",
    "print(alphabet_hist.get(day_before_closing_price_date))"
   ],
   "metadata": {
    "collapsed": false,
    "pycharm": {
     "name": "#%%\n"
    }
   }
  },
  {
   "cell_type": "code",
   "execution_count": null,
   "outputs": [],
   "source": [
    "# Get day eight weeks in future\n",
    "future_closing_price_date = closing_price_date + timedelta(weeks=8)\n",
    "\n",
    "# Safely get value for the future date or the string 'Missing'\n",
    "print(alphabet_hist.get(future_closing_price_date, 'Missing'))"
   ],
   "metadata": {
    "collapsed": false,
    "pycharm": {
     "name": "#%%\n"
    }
   }
  },
  {
   "cell_type": "code",
   "execution_count": null,
   "outputs": [],
   "source": [
    "# Print with key\n",
    "print(alphabet_hist)\n",
    "\n",
    "# Remove entry\n",
    "del(alphabet_hist[closing_price_date])\n",
    "\n",
    "# Print with key deleted\n",
    "print(alphabet_hist)"
   ],
   "metadata": {
    "collapsed": false,
    "pycharm": {
     "name": "#%%\n"
    }
   }
  },
  {
   "cell_type": "markdown",
   "source": [
    "\n",
    "Removing entries from a dictionary is important if you think you have misleading or incorrect data. You don't want to predict a stock's future based on bad data."
   ],
   "metadata": {
    "collapsed": false,
    "pycharm": {
     "name": "#%% md\n"
    }
   }
  }
 ],
 "metadata": {
  "kernelspec": {
   "display_name": "Python 3",
   "language": "python",
   "name": "python3"
  },
  "language_info": {
   "codemirror_mode": {
    "name": "ipython",
    "version": 2
   },
   "file_extension": ".py",
   "mimetype": "text/x-python",
   "name": "python",
   "nbconvert_exporter": "python",
   "pygments_lexer": "ipython2",
   "version": "2.7.6"
  }
 },
 "nbformat": 4,
 "nbformat_minor": 0
}