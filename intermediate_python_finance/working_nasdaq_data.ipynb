{
 "cells": [
  {
   "cell_type": "markdown",
   "source": [
    "# Working with NASDAQ Stock Data\n",
    "Try your hand at working with real-world NASDAQ stock data and learn how to interpret new data, create masks to filter data, and visualize your findings with plots.\n"
   ],
   "metadata": {
    "collapsed": false,
    "pycharm": {
     "name": "#%% md\n"
    }
   }
  },
  {
   "cell_type": "markdown",
   "source": [
    "#### Import libraries and dependencies"
   ],
   "metadata": {
    "collapsed": false,
    "pycharm": {
     "name": "#%% md\n"
    }
   }
  },
  {
   "cell_type": "code",
   "execution_count": null,
   "outputs": [],
   "source": [
    "import pandas as pd\n",
    "import datetime"
   ],
   "metadata": {
    "collapsed": false,
    "pycharm": {
     "name": "#%%\n"
    }
   }
  },
  {
   "cell_type": "code",
   "execution_count": null,
   "outputs": [],
   "source": [
    "# import data, and set the date column to the index column\n",
    "alphabet = pd.read_csv('../data/historical_quotes.csv', index_col='date')\n",
    "\n",
    "# Convert str date index to a datetime object\n",
    "alphabet.index = pd.to_datetime(alphabet.index)"
   ],
   "metadata": {
    "collapsed": false,
    "pycharm": {
     "name": "#%%\n"
    }
   }
  },
  {
   "cell_type": "markdown",
   "source": [
    "# Peaking at data with head, tail, and describe\n",
    "When you first load data into a `DataFrame`, it is a good practice to take a look at it before you start manipulating it. This both ensures the data is loaded correctly and that you have a basic understanding of its shape."
   ],
   "metadata": {
    "collapsed": false,
    "pycharm": {
     "name": "#%% md\n"
    }
   }
  },
  {
   "cell_type": "code",
   "execution_count": null,
   "outputs": [],
   "source": [
    "# Peak at top five rows\n",
    "alphabet.head()"
   ],
   "metadata": {
    "collapsed": false,
    "pycharm": {
     "name": "#%%\n"
    }
   }
  },
  {
   "cell_type": "code",
   "execution_count": null,
   "outputs": [],
   "source": [
    "# Peak at top seven rows\n",
    "alphabet.head(7)"
   ],
   "metadata": {
    "collapsed": false,
    "pycharm": {
     "name": "#%%\n"
    }
   }
  },
  {
   "cell_type": "code",
   "execution_count": null,
   "outputs": [],
   "source": [
    "# Peak at last row.\n",
    "alphabet.tail(1)"
   ],
   "metadata": {
    "collapsed": false,
    "pycharm": {
     "name": "#%%\n"
    }
   }
  },
  {
   "cell_type": "markdown",
   "source": [
    "# Describing data\n",
    "Let continue investigating our historical stock data for Alphabet. In this exercise you will be asked to look at the summary statistics for the dataset. This is something you will want to do with most financial data to understand its range and shape."
   ],
   "metadata": {
    "collapsed": false,
    "pycharm": {
     "name": "#%% md\n"
    }
   }
  },
  {
   "cell_type": "code",
   "execution_count": null,
   "outputs": [],
   "source": [
    "# Get stats for all numeric columns\n",
    "alphabet.describe()"
   ],
   "metadata": {
    "collapsed": false,
    "pycharm": {
     "name": "#%%\n"
    }
   }
  },
  {
   "cell_type": "code",
   "execution_count": null,
   "outputs": [],
   "source": [
    "# Get stats for integer columns only\n",
    "alphabet.describe(include='float')"
   ],
   "metadata": {
    "collapsed": false,
    "pycharm": {
     "name": "#%%\n"
    }
   }
  },
  {
   "cell_type": "code",
   "execution_count": null,
   "outputs": [],
   "source": [
    "alphabet.describe(percentiles=[.3, .5, .6])"
   ],
   "metadata": {
    "collapsed": false,
    "pycharm": {
     "name": "#%%\n"
    }
   }
  },
  {
   "cell_type": "markdown",
   "source": [
    "# Filtering data\n",
    "Now that you know how to peek and understand your data, it's time to learn how to filter it.\n",
    "<br>\n",
    "For this exercise you will be filtering Alphabet stock data, once again working with a DataFrame `alphabet`. The head of the DataFrame looks like this:"
   ],
   "metadata": {
    "collapsed": false,
    "pycharm": {
     "name": "#%% md\n"
    }
   }
  },
  {
   "cell_type": "code",
   "execution_count": null,
   "outputs": [],
   "source": [
    "alphabet.head()"
   ],
   "metadata": {
    "collapsed": false,
    "pycharm": {
     "name": "#%%\n"
    }
   }
  },
  {
   "cell_type": "code",
   "execution_count": null,
   "outputs": [],
   "source": [
    "# Mask for large enough daily high\n",
    "high_mask = alphabet.high > 500\n",
    "\n",
    "# Filter using the mask\n",
    "alphabet.loc[high_mask].head()"
   ],
   "metadata": {
    "collapsed": false,
    "pycharm": {
     "name": "#%%\n"
    }
   }
  },
  {
   "cell_type": "code",
   "execution_count": null,
   "outputs": [],
   "source": [
    "# Mask for specific volume\n",
    "volume_mask = alphabet.volume == 1771271\n",
    "\n",
    "# Filter using the mask\n",
    "alphabet.loc[volume_mask]"
   ],
   "metadata": {
    "collapsed": false,
    "pycharm": {
     "name": "#%%\n"
    }
   }
  },
  {
   "cell_type": "code",
   "execution_count": null,
   "outputs": [],
   "source": [
    "# Mask rows whose volume is not 1997999\n",
    "volume_mask = alphabet.volume != 1997999\n",
    "\n",
    "# Filter using the mask\n",
    "alphabet.loc[volume_mask].head()"
   ],
   "metadata": {
    "collapsed": false,
    "pycharm": {
     "name": "#%%\n"
    }
   }
  },
  {
   "cell_type": "markdown",
   "source": [
    "# Selecting data from data range\n",
    "Pulling data that meets specific conditions is one of the most powerful and commonly used operations with DataFrames.\n",
    "<br>\n",
    "Provided is the DataFrame `alphabet` and the `datetime`s `start_date` and `end_date`.\n",
    "The DataFrame's head looks like this:"
   ],
   "metadata": {
    "collapsed": false,
    "pycharm": {
     "name": "#%% md\n"
    }
   }
  },
  {
   "cell_type": "code",
   "execution_count": null,
   "outputs": [],
   "source": [
    "alphabet.head()\n",
    "\n",
    "start_date = datetime.datetime(2019, 7, 29)\n",
    "end_date = datetime.datetime(2019, 8, 2)"
   ],
   "metadata": {
    "collapsed": false,
    "pycharm": {
     "name": "#%%\n"
    }
   }
  },
  {
   "cell_type": "code",
   "execution_count": null,
   "outputs": [],
   "source": [
    "# Calculate the mask for one week\n",
    "mask = (alphabet.index >= start_date) & (alphabet.index <= end_date)\n",
    "\n",
    "# Use the mask to get the data for one week\n",
    "df = alphabet[mask]\n",
    "\n",
    "# Look at result\n",
    "df"
   ],
   "metadata": {
    "collapsed": false,
    "pycharm": {
     "name": "#%%\n"
    }
   }
  },
  {
   "cell_type": "code",
   "execution_count": null,
   "outputs": [],
   "source": [],
   "metadata": {
    "collapsed": false,
    "pycharm": {
     "name": "#%%\n"
    }
   }
  }
 ],
 "metadata": {
  "kernelspec": {
   "display_name": "Python 3",
   "language": "python",
   "name": "python3"
  },
  "language_info": {
   "codemirror_mode": {
    "name": "ipython",
    "version": 2
   },
   "file_extension": ".py",
   "mimetype": "text/x-python",
   "name": "python",
   "nbconvert_exporter": "python",
   "pygments_lexer": "ipython2",
   "version": "2.7.6"
  }
 },
 "nbformat": 4,
 "nbformat_minor": 0
}