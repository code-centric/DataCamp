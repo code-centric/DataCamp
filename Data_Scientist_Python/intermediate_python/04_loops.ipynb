{
 "cells": [
  {
   "cell_type": "markdown",
   "source": [
    "# Loops\n",
    "There are several techniques you can use to repeatedly execute Python code. `while` loops are like repeated if statements, the `for` loop iterates over all kinds of data structures."
   ],
   "metadata": {
    "collapsed": false,
    "pycharm": {
     "name": "#%% md\n"
    }
   }
  },
  {
   "cell_type": "markdown",
   "source": [
    "# `while` loop\n",
    "The `while` loop is somewhat similar to an `if` statement: it executes the code inside if the condition is `True`. However, as opposed to the `if` statement, the `while` loop will continue to execute this code over and over again as long as the condition is `True`."
   ],
   "metadata": {
    "collapsed": false,
    "pycharm": {
     "name": "#%% md\n"
    }
   }
  },
  {
   "cell_type": "markdown",
   "source": [
    "#### `while`: warming up\n",
    "The `while` loop is like a repeated if statement. The code is executed over and over again, as long as the condition is True. Have another look at its recipe."
   ],
   "metadata": {
    "collapsed": false,
    "pycharm": {
     "name": "#%% md\n"
    }
   }
  },
  {
   "cell_type": "code",
   "execution_count": null,
   "outputs": [],
   "source": [
    "import pandas as pd\n",
    "\n",
    "x = 1\n",
    "\n",
    "while x < 4 :\n",
    "    print(x)\n",
    "    x = x + 1"
   ],
   "metadata": {
    "collapsed": false,
    "pycharm": {
     "name": "#%%\n"
    }
   }
  },
  {
   "cell_type": "markdown",
   "source": [
    "#### Basic `while` loop\n",
    "You're going to code a `while` loop that implements a very basic control system for an **inverted pendulum**. If there's an offset from standing perfectly straight, the `while` loop will incrementally fix this offset."
   ],
   "metadata": {
    "collapsed": false,
    "pycharm": {
     "name": "#%% md\n"
    }
   }
  },
  {
   "cell_type": "code",
   "execution_count": null,
   "outputs": [],
   "source": [
    "# Initialize offset\n",
    "offset = 8\n",
    "\n",
    "# Code the while loop\n",
    "while offset != 0:\n",
    "  # Print out the sentence \"correcting...\"\n",
    "  print('correcting...')\n",
    "  # decrease the value of offset by 1\n",
    "  offset -= 1\n",
    "  # print out offset\n",
    "  print(offset)"
   ],
   "metadata": {
    "collapsed": false,
    "pycharm": {
     "name": "#%%\n"
    }
   }
  },
  {
   "cell_type": "markdown",
   "source": [
    "#### Add conditionals\n",
    "The `while` loop that corrects the `offset` is a good start, but what if `offset` is negative?\n",
    "\n",
    "The `while` loop will never stop running, because `offset` will be further decreased on every run. `offset != 0` will never become `False` and the `while` loop continues forever.\n",
    "\n",
    "Fix things by putting an `if-else` statement inside the `while` loop."
   ],
   "metadata": {
    "collapsed": false,
    "pycharm": {
     "name": "#%% md\n"
    }
   }
  },
  {
   "cell_type": "code",
   "execution_count": null,
   "outputs": [],
   "source": [
    "# Initialize offset\n",
    "offset = -6\n",
    "\n",
    "# Code the while loop\n",
    "while offset != 0 :\n",
    "    print(\"correcting...\")\n",
    "    # If offset is greater than zero, you should decrease offset by 1\n",
    "    if offset > 0:\n",
    "        offset -= 1\n",
    "    # Else, you should increase offset by 1\n",
    "    else :\n",
    "        offset += 1\n",
    "    # print out offset\n",
    "    print(offset)"
   ],
   "metadata": {
    "collapsed": false,
    "pycharm": {
     "name": "#%%\n"
    }
   }
  },
  {
   "cell_type": "markdown",
   "source": [
    "# `for` loop\n",
    "Next to the `while` loop, Python features another type of loop as well: You've seen the `while` loop, now it's time for another loop: the `for` loop!"
   ],
   "metadata": {
    "collapsed": false,
    "pycharm": {
     "name": "#%% md\n"
    }
   }
  },
  {
   "cell_type": "markdown",
   "source": [
    "#### Loop over a list\n",
    "Write a `for` loop that iterates over all elements of the `areas` list and prints out every element separately."
   ],
   "metadata": {
    "collapsed": false,
    "pycharm": {
     "name": "#%% md\n"
    }
   }
  },
  {
   "cell_type": "code",
   "execution_count": null,
   "outputs": [],
   "source": [
    "# areas list\n",
    "areas = [11.25, 18.0, 20.0, 10.75, 9.50]\n",
    "\n",
    "# Code the for loop\n",
    "for area in areas:\n",
    "    print(area)"
   ],
   "metadata": {
    "collapsed": false,
    "pycharm": {
     "name": "#%%\n"
    }
   }
  },
  {
   "cell_type": "markdown",
   "source": [
    "#### Indexes and values 1\n",
    "Using a `for` loop to iterate over a list only gives you access to every list element in each run, one after the other. If you also want to access the index information, so where the list element you're iterating over is located, you can use `enumerate()`.\n"
   ],
   "metadata": {
    "collapsed": false,
    "pycharm": {
     "name": "#%% md\n"
    }
   }
  },
  {
   "cell_type": "code",
   "execution_count": null,
   "outputs": [],
   "source": [
    "# areas list\n",
    "areas = [11.25, 18.0, 20.0, 10.75, 9.50]\n",
    "\n",
    "# Change for loop to use enumerate(), and use two iterator variables.\n",
    "for index, area in enumerate(areas) :\n",
    "    # Update print()\n",
    "    print(\"room \" + str(index) + \": \" + str(area))"
   ],
   "metadata": {
    "collapsed": false,
    "pycharm": {
     "name": "#%%\n"
    }
   }
  },
  {
   "cell_type": "markdown",
   "source": [
    "#### Indexes and values 2\n",
    "For non-programmer folks, `room 0: 11.25` is strange. Wouldn't it be better if the count started at `1`?\n",
    "\n",
    "Adapt the `print()` function in the `for` loop so that the first printout has an index of `1`."
   ],
   "metadata": {
    "collapsed": false,
    "pycharm": {
     "name": "#%% md\n"
    }
   }
  },
  {
   "cell_type": "code",
   "execution_count": null,
   "outputs": [],
   "source": [
    "# areas list\n",
    "areas = [11.25, 18.0, 20.0, 10.75, 9.50]\n",
    "\n",
    "# Code the for loop\n",
    "for index, area in enumerate(areas) :\n",
    "    # Adapt the print() function in the for loop so that the first printout has an index of 1.\n",
    "    print(\"room \" + str(index + 1) + \": \" + str(area))"
   ],
   "metadata": {
    "collapsed": false,
    "pycharm": {
     "name": "#%%\n"
    }
   }
  },
  {
   "cell_type": "markdown",
   "source": [
    "#### Loop over list of lists\n",
    "Have a look at the code in the cell below. It's basically a list of lists, where each sublist contains the name and area of a room in your house.\n",
    "\n",
    "Write a `for` loop that goes through each sublist of `house` and prints out the `x is y sqm`, where `x` is the name of the room and y is the area of the room."
   ],
   "metadata": {
    "collapsed": false,
    "pycharm": {
     "name": "#%% md\n"
    }
   }
  },
  {
   "cell_type": "code",
   "execution_count": null,
   "outputs": [],
   "source": [
    "# house list of lists\n",
    "house = [[\"hallway\", 11.25],\n",
    "         [\"kitchen\", 18.0],\n",
    "         [\"living room\", 20.0],\n",
    "         [\"bedroom\", 10.75],\n",
    "         [\"bathroom\", 9.50]]\n",
    "\n",
    "# Build a for loop from scratch\n",
    "for index in house:\n",
    "  print(f'the {index[0]} is {index[1]} sqm.')"
   ],
   "metadata": {
    "collapsed": false,
    "pycharm": {
     "name": "#%%\n"
    }
   }
  },
  {
   "cell_type": "markdown",
   "source": [
    "# Loop Data Structures Part 1\n",
    "You saw how looping over lists and strings works, but what about those other data structures, such as dictionaries and NumPy arrays? Well, in both cases, you can use a similar for loop construct, but the way you define the \"sequence\" over which you're iterating will differ depending on the data structure."
   ],
   "metadata": {
    "collapsed": false,
    "pycharm": {
     "name": "#%% md\n"
    }
   }
  },
  {
   "cell_type": "markdown",
   "source": [
    "#### Loop over dictionary\n",
    "In Python 3, you need the `items()` method to loop over a dictionary.\n",
    "\n",
    "Write a `for` loop that goes through each `key:value` pair of the dictionary named `europe`. On each iteration, \"`the capital of x is y`\" should be printed out, where `x` is the key and `y` is the value of the pair."
   ],
   "metadata": {
    "collapsed": false,
    "pycharm": {
     "name": "#%% md\n"
    }
   }
  },
  {
   "cell_type": "code",
   "execution_count": null,
   "outputs": [],
   "source": [
    "# Definition of dictionary\n",
    "europe = {'spain':'madrid', 'france':'paris', 'germany':'berlin',\n",
    "          'norway':'oslo', 'italy':'rome', 'poland':'warsaw', 'austria':'vienna' }\n",
    "\n",
    "# Iterate over europe\n",
    "for country, capital in europe.items():\n",
    "    print(f'The capital of {country} is {capital}.')"
   ],
   "metadata": {
    "collapsed": false,
    "pycharm": {
     "name": "#%%\n"
    }
   }
  },
  {
   "cell_type": "markdown",
   "source": [
    "#### Loop over NumPy array\n",
    "If you're dealing with a 1D NumPy array, looping over all elements can be simple.\n",
    "If you're dealing with a 2D NumPy array, it's more complicated. A 2D array is built up of multiple 1D arrays. To explicitly iterate over all separate elements of a multidimensional array, you'll need to use `np.nditer()`."
   ],
   "metadata": {
    "collapsed": false,
    "pycharm": {
     "name": "#%% md\n"
    }
   }
  },
  {
   "cell_type": "code",
   "execution_count": null,
   "outputs": [],
   "source": [
    "import numpy as np\n",
    "import pandas as pd"
   ],
   "metadata": {
    "collapsed": false,
    "pycharm": {
     "name": "#%%\n"
    }
   }
  },
  {
   "cell_type": "code",
   "execution_count": null,
   "outputs": [],
   "source": [
    "# Import mlb data\n",
    "mlb = pd.read_csv('../../data/mlb.csv')\n",
    "\n",
    "# Create a 2D NumPy array that contains both the heights (first column) and weights (second column) of those players.\n",
    "np_mlb = np.array(mlb[['Height', 'Weight']])\n",
    "# Create a NumPy array containing the heights of MLB players\n",
    "np_height = np.array(mlb['Height'])"
   ],
   "metadata": {
    "collapsed": false,
    "pycharm": {
     "name": "#%%\n"
    }
   }
  },
  {
   "cell_type": "code",
   "execution_count": null,
   "outputs": [],
   "source": [
    "# For loop over np_height\n",
    "for height in np.nditer(np_height):\n",
    "    # print(str(height) + ' inches')\n",
    "    print(f'{height} inches')"
   ],
   "metadata": {
    "collapsed": false,
    "pycharm": {
     "name": "#%%\n"
    }
   }
  },
  {
   "cell_type": "code",
   "execution_count": null,
   "outputs": [],
   "source": [
    "# For loop over np_baseball\n",
    "for values in np.nditer(np_mlb):\n",
    "    print(values)"
   ],
   "metadata": {
    "collapsed": false,
    "pycharm": {
     "name": "#%%\n"
    }
   }
  },
  {
   "cell_type": "markdown",
   "source": [
    "# Loop Data Structures Part 2\n",
    "There's one data structure out there that we haven't covered yet when it comes to looping: the Pandas DataFrame."
   ],
   "metadata": {
    "collapsed": false,
    "pycharm": {
     "name": "#%% md\n"
    }
   }
  },
  {
   "cell_type": "markdown",
   "source": [
    "#### Loop over DataFrame 1\n",
    "Iterating over a Pandas `DataFrame` is typically done with the `iterrows()` method. Used in a `for` loop, every observation is iterated over and on every iteration the row label and actual row contents are available.\n",
    "\n",
    "You will be working on the `cars` DataFrame. It contains information on the cars per capita and whether people drive right or left for seven countries in the world."
   ],
   "metadata": {
    "collapsed": false,
    "pycharm": {
     "name": "#%% md\n"
    }
   }
  },
  {
   "cell_type": "code",
   "execution_count": null,
   "outputs": [],
   "source": [
    "# Import cars data\n",
    "cars = pd.read_csv('../../data/cars.csv', index_col=0)\n",
    "cars"
   ],
   "metadata": {
    "collapsed": false,
    "pycharm": {
     "name": "#%%\n"
    }
   }
  },
  {
   "cell_type": "code",
   "execution_count": null,
   "outputs": [],
   "source": [
    "# Iterate over rows of cars\n",
    "for row_label, row_contents in cars.iterrows():\n",
    "    print(row_label)\n",
    "    print(row_contents, end='\\n\\n')"
   ],
   "metadata": {
    "collapsed": false,
    "pycharm": {
     "name": "#%%\n"
    }
   }
  },
  {
   "cell_type": "markdown",
   "source": [
    "#### Loop over DataFrame 2\n",
    "The row data that's generated by `iterrows()` on every run is a Pandas `Series`. This format is not very convenient to print out. Luckily, you can easily select variables from the Pandas `Series` using square brackets.\n",
    "\n",
    "Using the iterators `lab` and `row`, code a `for` loop that prints out \"`country: cars_per_cap`\" the first iteration, and so on."
   ],
   "metadata": {
    "collapsed": false,
    "pycharm": {
     "name": "#%% md\n"
    }
   }
  },
  {
   "cell_type": "code",
   "execution_count": null,
   "outputs": [],
   "source": [
    "# Adapt for loop\n",
    "for row_label, row_contents in cars.iterrows() :\n",
    "    print(f'{row_label}: {row_contents[\"cars_per_cap\"]}')"
   ],
   "metadata": {
    "collapsed": false,
    "pycharm": {
     "name": "#%%\n"
    }
   }
  },
  {
   "cell_type": "markdown",
   "source": [
    "#### Add column 1\n",
    "Use a `for` loop to add a new column, named `COUNTRY`, that contains an uppercase version of the country names in the \"`country`\" column. You can use the string method `upper()` for this."
   ],
   "metadata": {
    "collapsed": false,
    "pycharm": {
     "name": "#%% md\n"
    }
   }
  },
  {
   "cell_type": "code",
   "execution_count": null,
   "outputs": [],
   "source": [
    "# Code for loop that adds COUNTRY column\n",
    "for row_label, row_contents in cars.iterrows():\n",
    "    cars.loc[row_label, str('CoUnTrY').upper()] = row_contents['country'].upper()\n",
    "\n",
    "# Print cars\n",
    "cars"
   ],
   "metadata": {
    "collapsed": false,
    "pycharm": {
     "name": "#%%\n"
    }
   }
  },
  {
   "cell_type": "markdown",
   "source": [
    "#### Add column 2\n",
    "Using `iterrows()` to iterate over every observation of a Pandas `DataFrame` is easy to understand, but not very efficient. On every iteration, you're creating a new Pandas `Series`.\n",
    "\n",
    "If you want to add a column to a `DataFrame` by calling a function on another column, the `iterrows()` method in combination with a `for` loop is not the preferred way to go. Instead, you'll want to use `apply()`."
   ],
   "metadata": {
    "collapsed": false,
    "pycharm": {
     "name": "#%% md\n"
    }
   }
  },
  {
   "cell_type": "code",
   "execution_count": null,
   "outputs": [],
   "source": [
    "# Replace the for loop with a one-liner that uses .apply(str.upper\n",
    "cars['COUNTRY'] = cars['country'].apply(str.upper)\n",
    "cars"
   ],
   "metadata": {
    "collapsed": false,
    "pycharm": {
     "name": "#%%\n"
    }
   }
  }
 ],
 "metadata": {
  "kernelspec": {
   "display_name": "Python 3",
   "language": "python",
   "name": "python3"
  },
  "language_info": {
   "codemirror_mode": {
    "name": "ipython",
    "version": 2
   },
   "file_extension": ".py",
   "mimetype": "text/x-python",
   "name": "python",
   "nbconvert_exporter": "python",
   "pygments_lexer": "ipython2",
   "version": "2.7.6"
  }
 },
 "nbformat": 4,
 "nbformat_minor": 0
}