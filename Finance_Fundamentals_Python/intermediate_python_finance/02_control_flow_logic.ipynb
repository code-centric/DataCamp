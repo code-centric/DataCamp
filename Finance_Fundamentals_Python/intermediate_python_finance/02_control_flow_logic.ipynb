{
 "cells": [
  {
   "cell_type": "markdown",
   "source": [
    "# Control Flow and Logic\n",
    "Through hands-on activities, you’ll discover how to use Boolean logic to determine truth and use comparison and equality operators to control execution in if-statements and loops."
   ],
   "metadata": {
    "collapsed": false,
    "pycharm": {
     "name": "#%% md\n"
    }
   }
  },
  {
   "cell_type": "markdown",
   "source": [
    "#### Import libraries and other dependencies"
   ],
   "metadata": {
    "collapsed": false,
    "pycharm": {
     "name": "#%% md\n"
    }
   }
  },
  {
   "cell_type": "code",
   "execution_count": null,
   "outputs": [],
   "source": [
    "import datetime"
   ],
   "metadata": {
    "collapsed": false,
    "pycharm": {
     "name": "#%%\n"
    }
   }
  },
  {
   "cell_type": "markdown",
   "source": [
    "# Comparison operators\n",
    "In the world of finance, you will often need to compare data. Whether you need to detect which events happened first, or if you just want to know if a stock's closing price is higher than its opening price, making comparisons is a requirement.\n",
    "<br>\n",
    "Luckily, Python offers built-in comparison operators. These include operators for equality and order."
   ],
   "metadata": {
    "collapsed": false,
    "pycharm": {
     "name": "#%% md\n"
    }
   }
  },
  {
   "cell_type": "markdown",
   "source": [
    "# Equality across types\n",
    "The equality operator `==` can be used to test if two variables have the same value. What is the result of using the equality operator to compare a variable `closing_price`, which holds the floating point value for a stocks closing price, to the variable `closing_time`, which holds a datetime object with the time of closing as a value?\n",
    "<br>\n",
    "The equality operator returns False when comparing most different types."
   ],
   "metadata": {
    "collapsed": false,
    "pycharm": {
     "name": "#%% md\n"
    }
   }
  },
  {
   "cell_type": "markdown",
   "source": [
    "# Assignment and equality\n",
    "When looking at someone's wealth, a distinction between cash and non-cash securities is important. Savings and checking accounts are cash securities. Stock positions are non-cash. Imagine that as part of balancing a client's wealth portfolio, you are asked to compare their cash and non-cash securities. The variable `non_cash` is provided with the value of the non-cash securities, and the variable `cash` is provided with the value of the cash securities."
   ],
   "metadata": {
    "collapsed": false,
    "pycharm": {
     "name": "#%% md\n"
    }
   }
  },
  {
   "cell_type": "code",
   "execution_count": null,
   "outputs": [],
   "source": [
    "# non-cash securities\n",
    "non_cash = 20.33\n",
    "\n",
    "# cash securities\n",
    "cash = 19.11"
   ],
   "metadata": {
    "collapsed": false,
    "pycharm": {
     "name": "#%%\n"
    }
   }
  },
  {
   "cell_type": "code",
   "execution_count": null,
   "outputs": [],
   "source": [
    "# Check if cash is equal to non-cash\n",
    "print(cash == non_cash)\n",
    "\n",
    "# Assign the value of cash to be equal non-cash\n",
    "cash = non_cash\n",
    "\n",
    "# Check if cash is equal to non-cash\n",
    "print(cash == non_cash)"
   ],
   "metadata": {
    "collapsed": false,
    "pycharm": {
     "name": "#%%\n"
    }
   }
  },
  {
   "cell_type": "markdown",
   "source": [
    "# Comparing dividends\n",
    "Dividends are payments made to stockholders, usually from profits that are not re-invested in a company. It is important to identify which stocks are paying higher dividends when analyzing how to balance stocks in a portfolio. Let's say that in your role analyzing a client's portfolio, you are tasked with comparing dividends from different holdings. The values of these dividends are provided in the variables `d1` and `d2`."
   ],
   "metadata": {
    "collapsed": false,
    "pycharm": {
     "name": "#%% md\n"
    }
   }
  },
  {
   "cell_type": "code",
   "execution_count": null,
   "outputs": [],
   "source": [
    "d1 = 323\n",
    "d2 = 489"
   ],
   "metadata": {
    "collapsed": false,
    "pycharm": {
     "name": "#%%\n"
    }
   }
  },
  {
   "cell_type": "code",
   "execution_count": null,
   "outputs": [],
   "source": [
    "# Check dividend 2 is greater than zero\n",
    "print(d2 > 0)\n",
    "\n",
    "# Is dividend 1 is greater than dividend 2?\n",
    "print(d1 > d2)\n",
    "\n",
    "# Check dividend 1 is at least 100\n",
    "print(d1 >= 100)\n",
    "\n",
    "# Check dividend 2 is at least as much dividend 1\n",
    "print(d1 <= d2)"
   ],
   "metadata": {
    "collapsed": false,
    "pycharm": {
     "name": "#%%\n"
    }
   }
  },
  {
   "cell_type": "markdown",
   "source": [
    "Comparing dividends against boundaries by using comparison operators is a useful way to set up alerts and reports."
   ],
   "metadata": {
    "collapsed": false,
    "pycharm": {
     "name": "#%% md\n"
    }
   }
  },
  {
   "cell_type": "markdown",
   "source": [
    "# What are Boolean operations?\n",
    "Boolean logic consists of operations done between `True` or `False` values. There are three of these operations: `AND`, also known as logical conjunction. `OR`, known as logical disjunction. And `NOT`, known as logical negation."
   ],
   "metadata": {
    "collapsed": false,
    "pycharm": {
     "name": "#%% md\n"
    }
   }
  },
  {
   "cell_type": "markdown",
   "source": [
    "# Decisions with Boolean operations\n",
    "Boolean operations are used in Python to make decisions. Imagine that you work as an analyst identifying accounts that might potentially participate in stock trades. You might use this information to advise qualifying clients on market moves.\n",
    "<br>\n",
    "The variable `is_investment_account` is supplied. It is set to `True` if the given account includes stock positions as part of its holdings. The supplied variable `balance_positive` is set to `True` if the account has a positive cash balance, which could be used to purchase securities."
   ],
   "metadata": {
    "collapsed": false,
    "pycharm": {
     "name": "#%% md\n"
    }
   }
  },
  {
   "cell_type": "code",
   "execution_count": null,
   "outputs": [],
   "source": [
    "is_investment_account = True\n",
    "balance_positive = True"
   ],
   "metadata": {
    "collapsed": false,
    "pycharm": {
     "name": "#%%\n"
    }
   }
  },
  {
   "cell_type": "code",
   "execution_count": null,
   "outputs": [],
   "source": [
    "# Print the given variables\n",
    "print(is_investment_account)\n",
    "print(balance_positive)\n",
    "\n",
    "# Decide if this account is candidate for trading advice.\n",
    "potential_trade = is_investment_account and balance_positive\n",
    "\n",
    "# Print if this represents a potential trade\n",
    "print(potential_trade)"
   ],
   "metadata": {
    "collapsed": false,
    "pycharm": {
     "name": "#%%\n"
    }
   }
  },
  {
   "cell_type": "markdown",
   "source": [
    "# Assigning variables with Boolean operators\n",
    "You can use the fact that `and` and `or` are short-circuit operators to assign objects to variables in intelligent ways. Pretend that you are deciding what actions you should take with a client's account based on what they entered on a web-form. Unfortunately, they could submit the form with this field empty, so you need to set a default action just in case.\n",
    "<br>\n",
    "The supplied variable `input_action` has the contents submitted by the client. The supplied variable `is_trading_day` is `True` if today is a day that trades are possible."
   ],
   "metadata": {
    "collapsed": false,
    "pycharm": {
     "name": "#%% md\n"
    }
   }
  },
  {
   "cell_type": "code",
   "execution_count": null,
   "outputs": [],
   "source": [
    "input_action = ''\n",
    "is_trading_day = True"
   ],
   "metadata": {
    "collapsed": false,
    "pycharm": {
     "name": "#%%\n"
    }
   }
  },
  {
   "cell_type": "code",
   "execution_count": null,
   "outputs": [],
   "source": [
    "# Assign a default action if no input\n",
    "action = input_action or \"Hold\"\n",
    "\n",
    "# Print the action\n",
    "print(action)\n",
    "\n",
    "# Assign action only if trades can be made\n",
    "do_action = is_trading_day and action\n",
    "\n",
    "# Print the action to do\n",
    "print(do_action)"
   ],
   "metadata": {
    "collapsed": false,
    "pycharm": {
     "name": "#%%\n"
    }
   }
  },
  {
   "cell_type": "markdown",
   "source": [
    "# Negating with Boolean operators\n",
    "It is often the case that you need to combine Boolean operations to solve more complicated problems. Let's say that you need to know if you need to download the closing stock prices for today. You only want to do the operation if the markets have already closed.\n",
    "<br>\n",
    "The closing prices are a list held in the provided variable `closing_prices`. The supplied variable `market_closed` is set to `True` once the markets close. Use Boolean operations and what you know about how objects evaluate in them to determine if you should download the data."
   ],
   "metadata": {
    "collapsed": false,
    "pycharm": {
     "name": "#%% md\n"
    }
   }
  },
  {
   "cell_type": "code",
   "execution_count": null,
   "outputs": [],
   "source": [
    "closing_prices = []\n",
    "market_closed = False\n",
    "\n",
    "print(closing_prices)\n",
    "\n",
    "# Assigning True if we need to get the prices\n",
    "not_prices = not closing_prices\n",
    "print(not_prices)\n",
    "\n",
    "# Get prices if market is closed, and we don't have prices\n",
    "get_prices = not (market_closed and not_prices)\n",
    "\n",
    "print(get_prices)"
   ],
   "metadata": {
    "collapsed": false,
    "pycharm": {
     "name": "#%%\n"
    }
   }
  },
  {
   "cell_type": "markdown",
   "source": [
    "# If Statements\n",
    "The control statement for `if` statements consists of the keyword `if` followed by an expression which evaluates to `True` or `False`. This expression is followed by a colon, which indicates the end of the control statement. The expression can be anything that evaluates to `True` or `False`, including comparison operations, inclusion operations, Boolean operations, or even an object by itself."
   ],
   "metadata": {
    "collapsed": false,
    "pycharm": {
     "name": "#%% md\n"
    }
   }
  },
  {
   "cell_type": "markdown",
   "source": [
    "# Comparing sales and purchases\n",
    "`if` statements let you branch your code to take different actions depending on the state of your data. Imagine you are working at a small firm trying to keep the number items sold in balance with those purchased.\n",
    "<br>\n",
    "You are supplied with two lists, `purchases`, which contains items purchased, and `sales`, which contains items sold. Use `if` statements to compare the two lists."
   ],
   "metadata": {
    "collapsed": false,
    "pycharm": {
     "name": "#%% md\n"
    }
   }
  },
  {
   "cell_type": "code",
   "execution_count": null,
   "outputs": [],
   "source": [
    "purchases = []\n",
    "sales = []\n",
    "\n",
    "# Get number of purchases\n",
    "num_purchases = len(purchases)\n",
    "# Get number of sales\n",
    "num_sales = len(sales)\n",
    "\n",
    "# Check if more sales than purchases\n",
    "if num_purchases < num_sales:\n",
    "    print('buy more')\n",
    "\n",
    "# Check if fewer sales than purchases\n",
    "if num_purchases > num_sales:\n",
    "    print('sell more')\n",
    "\n",
    "# Check if both lists are empty\n",
    "if not (purchases or sales):\n",
    "    print('No sales or purchases')"
   ],
   "metadata": {
    "collapsed": false,
    "pycharm": {
     "name": "#%%\n"
    }
   }
  },
  {
   "cell_type": "markdown",
   "source": [
    "# Branching with elif and else\n",
    "`elif` and `else` statements let you extend your code to handle cases not handled by your initial control statement.\n",
    "<br>\n",
    "In this exercise you will sort security transactions based on their stock symbol. You might do this to better understand how some popular stocks are bought and sold. You are provided with the variable `trn` which holds the transaction, and the empty lists `appl`, `tsla`, and `amzn` to hold sorted transactions."
   ],
   "metadata": {
    "collapsed": false,
    "pycharm": {
     "name": "#%% md\n"
    }
   }
  },
  {
   "cell_type": "code",
   "execution_count": null,
   "outputs": [],
   "source": [
    "trn = {'symbol': 'TSLA', 'amount': 1500, 'type': 'DIVIDEND'}\n",
    "aapl = []\n",
    "tsla = []\n",
    "amzn = []\n",
    "\n",
    "symbol = trn['symbol']\n",
    "\n",
    "# Check if Apple stock\n",
    "if symbol == 'AAPL':\n",
    "    aapl.append(trn)\n",
    "# Check if Tesla stock\n",
    "elif symbol == 'TSLA':\n",
    "    tsla.append(trn)\n",
    "# Check if Amazon stock\n",
    "elif symbol == 'AMZN':\n",
    "    amzn.append(trn)\n",
    "# Handle other companies\n",
    "else:\n",
    "       print(symbol)"
   ],
   "metadata": {
    "collapsed": false,
    "pycharm": {
     "name": "#%%\n"
    }
   }
  },
  {
   "cell_type": "markdown",
   "source": [
    "# For and while loops\n",
    "There will be situations where you will need to repeat an operation on multiple items. For example, you might want to go through a list of transactions and look up the security symbol for each one, or maybe stop at the first one that involves Oracle securities.\n",
    "<br>\n",
    "Python offers two compound statements for such operations, the `for` loop and the `while` loop. These statements let you run a code block multiple times."
   ],
   "metadata": {
    "collapsed": false,
    "pycharm": {
     "name": "#%% md\n"
    }
   }
  },
  {
   "cell_type": "markdown",
   "source": [
    "# Breaking out of a for loop\n",
    "You can use loops to perform operations which change depending on the data.\n",
    "<br>\n",
    "You are given a list of purchase transactions in the variable `buys`. You need to calculate the final balance of your client's account after the purchases have been made, but you do not want the account to have a negative balance. The initial account balance is provided in the variable `balance`."
   ],
   "metadata": {
    "collapsed": false,
    "pycharm": {
     "name": "#%% md\n"
    }
   }
  },
  {
   "cell_type": "code",
   "execution_count": null,
   "outputs": [],
   "source": [
    "buys = [{'symbol': 'AAPL', 'total_cost': 900},\n",
    "        {'symbol': 'ORCL', 'total_cost': 300},\n",
    "        {'symbol': 'CSCO', 'total_cost': 200}]\n",
    "\n",
    "balance = 1299\n",
    "\n",
    "# Loop through buys\n",
    "for buy in buys:\n",
    "    print('Buying ' + buy['symbol'])\n",
    "\n",
    "    # Subtract the cost of a purchase from the variable balance\n",
    "    new_balance = balance - buy['total_cost']\n",
    "\n",
    "    # Check if the new balance would be negative\n",
    "    if new_balance < 0:\n",
    "        print('Unable to finish buys')\n",
    "\n",
    "        #Stop the iteration of the loop to prevent a negative balance.\n",
    "        break\n",
    "\n",
    "    # Update the balance\n",
    "    balance = new_balance\n",
    "\n",
    "print(balance)"
   ],
   "metadata": {
    "collapsed": false,
    "pycharm": {
     "name": "#%%\n"
    }
   }
  },
  {
   "cell_type": "markdown",
   "source": [
    "You've prevented your loop from creating negative balances using `if` and `break`, this a pattern you'll use many times."
   ],
   "metadata": {
    "collapsed": false,
    "pycharm": {
     "name": "#%% md\n"
    }
   }
  },
  {
   "cell_type": "markdown",
   "source": [
    "# Controlling loop execution\n",
    "A typical pattern is to create a `while` loop with `True` as its condition and use a `break` statement to end it.\n",
    "<br>\n",
    "In this exercise, your manager wants you to assemble a list of the five most recent years that the US had a positive trade gap. The dictionary `nea` is a mapping of `datetime`s to floats representing the net export for a given year. An empty list named `surplus_years` and a `datetime` named `query_date` are supplied."
   ],
   "metadata": {
    "collapsed": false,
    "pycharm": {
     "name": "#%% md\n"
    }
   }
  },
  {
   "cell_type": "code",
   "execution_count": null,
   "outputs": [],
   "source": [
    "nea = {datetime.datetime(1929, 1, 1, 0, 0): 0.383,\n",
    "       datetime.datetime(1930, 1, 1, 0, 0): 0.323,\n",
    "       datetime.datetime(1931, 1, 1, 0, 0): 0.001,\n",
    "       datetime.datetime(1932, 1, 1, 0, 0): 0.043,\n",
    "       datetime.datetime(1933, 1, 1, 0, 0): 0.058,\n",
    "       datetime.datetime(1934, 1, 1, 0, 0): 0.322,\n",
    "       datetime.datetime(1935, 1, 1, 0, 0): -0.213,\n",
    "       datetime.datetime(1936, 1, 1, 0, 0): -0.147,\n",
    "       datetime.datetime(1937, 1, 1, 0, 0): 0.078,\n",
    "       datetime.datetime(1938, 1, 1, 0, 0): 0.966,\n",
    "       datetime.datetime(1939, 1, 1, 0, 0): 0.833,\n",
    "       datetime.datetime(1940, 1, 1, 0, 0): 1.471,\n",
    "       datetime.datetime(1941, 1, 1, 0, 0): 1.033,\n",
    "       datetime.datetime(1942, 1, 1, 0, 0): -0.252,\n",
    "       datetime.datetime(1943, 1, 1, 0, 0): -2.246,\n",
    "       datetime.datetime(1944, 1, 1, 0, 0): -2.024,\n",
    "       datetime.datetime(1945, 1, 1, 0, 0): -0.766,\n",
    "       datetime.datetime(1946, 1, 1, 0, 0): 7.182,\n",
    "       datetime.datetime(1947, 1, 1, 0, 0): 10.807,\n",
    "       datetime.datetime(1948, 1, 1, 0, 0): 5.487,\n",
    "       datetime.datetime(1949, 1, 1, 0, 0): 5.235,\n",
    "       datetime.datetime(1950, 1, 1, 0, 0): 0.738,\n",
    "       datetime.datetime(1951, 1, 1, 0, 0): 2.513,\n",
    "       datetime.datetime(1952, 1, 1, 0, 0): 1.164,\n",
    "       datetime.datetime(1953, 1, 1, 0, 0): -0.701,\n",
    "       datetime.datetime(1954, 1, 1, 0, 0): 0.404,\n",
    "       datetime.datetime(1955, 1, 1, 0, 0): 0.478,\n",
    "       datetime.datetime(1956, 1, 1, 0, 0): 2.361,\n",
    "       datetime.datetime(1957, 1, 1, 0, 0): 4.075,\n",
    "       datetime.datetime(1958, 1, 1, 0, 0): 0.538,\n",
    "       datetime.datetime(1959, 1, 1, 0, 0): 0.397,\n",
    "       datetime.datetime(1960, 1, 1, 0, 0): 4.204,\n",
    "       datetime.datetime(1961, 1, 1, 0, 0): 4.914,\n",
    "       datetime.datetime(1962, 1, 1, 0, 0): 4.101,\n",
    "       datetime.datetime(1963, 1, 1, 0, 0): 4.939,\n",
    "       datetime.datetime(1964, 1, 1, 0, 0): 6.915,\n",
    "       datetime.datetime(1965, 1, 1, 0, 0): 5.618,\n",
    "       datetime.datetime(1966, 1, 1, 0, 0): 3.863,\n",
    "       datetime.datetime(1967, 1, 1, 0, 0): 3.555,\n",
    "       datetime.datetime(1968, 1, 1, 0, 0): 1.35,\n",
    "       datetime.datetime(1969, 1, 1, 0, 0): 1.431,\n",
    "       datetime.datetime(1970, 1, 1, 0, 0): 3.948,\n",
    "       datetime.datetime(1971, 1, 1, 0, 0): 0.621,\n",
    "       datetime.datetime(1972, 1, 1, 0, 0): -3.373,\n",
    "       datetime.datetime(1973, 1, 1, 0, 0): 4.111,\n",
    "       datetime.datetime(1974, 1, 1, 0, 0): -0.815,\n",
    "       datetime.datetime(1975, 1, 1, 0, 0): 15.977,\n",
    "       datetime.datetime(1976, 1, 1, 0, 0): -1.631,\n",
    "       datetime.datetime(1977, 1, 1, 0, 0): -23.094,\n",
    "       datetime.datetime(1978, 1, 1, 0, 0): -25.366,\n",
    "       datetime.datetime(1979, 1, 1, 0, 0): -22.545,\n",
    "       datetime.datetime(1980, 1, 1, 0, 0): -13.056,\n",
    "       datetime.datetime(1981, 1, 1, 0, 0): -12.519,\n",
    "       datetime.datetime(1982, 1, 1, 0, 0): -19.974,\n",
    "       datetime.datetime(1983, 1, 1, 0, 0): -51.642,\n",
    "       datetime.datetime(1984, 1, 1, 0, 0): -102.727,\n",
    "       datetime.datetime(1985, 1, 1, 0, 0): -114.018,\n",
    "       datetime.datetime(1986, 1, 1, 0, 0): -131.869,\n",
    "       datetime.datetime(1987, 1, 1, 0, 0): -144.77,\n",
    "       datetime.datetime(1988, 1, 1, 0, 0): -109.393,\n",
    "       datetime.datetime(1989, 1, 1, 0, 0): -86.741,\n",
    "       datetime.datetime(1990, 1, 1, 0, 0): -77.855,\n",
    "       datetime.datetime(1991, 1, 1, 0, 0): -28.614,\n",
    "       datetime.datetime(1992, 1, 1, 0, 0): -34.738,\n",
    "       datetime.datetime(1993, 1, 1, 0, 0): -65.173,\n",
    "       datetime.datetime(1994, 1, 1, 0, 0): -92.487,\n",
    "       datetime.datetime(1995, 1, 1, 0, 0): -89.761,\n",
    "       datetime.datetime(1996, 1, 1, 0, 0): -96.376,\n",
    "       datetime.datetime(1997, 1, 1, 0, 0): -101.971,\n",
    "       datetime.datetime(1998, 1, 1, 0, 0): -162.711,\n",
    "       datetime.datetime(1999, 1, 1, 0, 0): -255.834,\n",
    "       datetime.datetime(2000, 1, 1, 0, 0): -375.05,\n",
    "       datetime.datetime(2001, 1, 1, 0, 0): -367.929,\n",
    "       datetime.datetime(2002, 1, 1, 0, 0): -425.402,\n",
    "       datetime.datetime(2003, 1, 1, 0, 0): -503.127,\n",
    "       datetime.datetime(2004, 1, 1, 0, 0): -619.075,\n",
    "       datetime.datetime(2005, 1, 1, 0, 0): -721.193,\n",
    "       datetime.datetime(2006, 1, 1, 0, 0): -770.924,\n",
    "       datetime.datetime(2007, 1, 1, 0, 0): -718.426,\n",
    "       datetime.datetime(2008, 1, 1, 0, 0): -723.088,\n",
    "       datetime.datetime(2009, 1, 1, 0, 0): -396.451,\n",
    "       datetime.datetime(2010, 1, 1, 0, 0): -513.903,\n",
    "       datetime.datetime(2011, 1, 1, 0, 0): -579.462,\n",
    "       datetime.datetime(2012, 1, 1, 0, 0): -568.571,\n",
    "       datetime.datetime(2013, 1, 1, 0, 0): -490.782,\n",
    "       datetime.datetime(2014, 1, 1, 0, 0): -507.658,\n",
    "       datetime.datetime(2015, 1, 1, 0, 0): -519.845,\n",
    "       datetime.datetime(2016, 1, 1, 0, 0): -518.807,\n",
    "       datetime.datetime(2017, 1, 1, 0, 0): -575.336,\n",
    "       datetime.datetime(2018, 1, 1, 0, 0): -638.214}\n",
    "surplus_years = []\n",
    "query_date = datetime.datetime(2018, 1, 1, 0, 0)"
   ],
   "metadata": {
    "collapsed": false,
    "pycharm": {
     "name": "#%%\n"
    }
   }
  },
  {
   "cell_type": "code",
   "execution_count": null,
   "outputs": [],
   "source": [
    "# Loop while true\n",
    "while True:\n",
    "       net_exports = nea.get(query_date, -1)\n",
    "       query_date = datetime.datetime(query_date.year - 1, 1, 1)\n",
    "\n",
    "       # Skip if net exports are not positive\n",
    "       if net_exports < 0:\n",
    "              continue\n",
    "       surplus_years.append(query_date)\n",
    "\n",
    "       # Check if 5 years have been collected\n",
    "       if len(surplus_years) == 5:\n",
    "              # Stop the loop\n",
    "              break\n",
    "\n",
    "print(surplus_years)"
   ],
   "metadata": {
    "collapsed": false,
    "pycharm": {
     "name": "#%%\n"
    }
   }
  },
  {
   "cell_type": "markdown",
   "source": [
    "Well done! You have used a controlled `while` loop to collect trade surplus data from a dictionary using `datetime`, `while` loops, `continue` statements and `break` statements."
   ],
   "metadata": {
    "collapsed": false,
    "pycharm": {
     "name": "#%% md\n"
    }
   }
  }
 ],
 "metadata": {
  "kernelspec": {
   "display_name": "Python 3",
   "language": "python",
   "name": "python3"
  },
  "language_info": {
   "codemirror_mode": {
    "name": "ipython",
    "version": 2
   },
   "file_extension": ".py",
   "mimetype": "text/x-python",
   "name": "python",
   "nbconvert_exporter": "python",
   "pygments_lexer": "ipython2",
   "version": "2.7.6"
  }
 },
 "nbformat": 4,
 "nbformat_minor": 0
}