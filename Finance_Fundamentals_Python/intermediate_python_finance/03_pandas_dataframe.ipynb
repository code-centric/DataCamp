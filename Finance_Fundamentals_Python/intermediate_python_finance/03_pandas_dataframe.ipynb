{
 "cells": [
  {
   "cell_type": "markdown",
   "source": [
    "# Creating a DataFrame\n",
    "The Pandas `DataFrame` is the most used element of the Pandas library. You can think of a DataFrame as being very like a spreadsheet or table. It consists of data labeled both with `columns` and an `index`..\n",
    "<br>\n",
    "The columns of a `DataFrame` run along the top and the `index` is the numbers on the left. You can create empty `DataFrame`s and add data later, but the more common workflow is to pre-populate your `DataFrame` with data when you create it."
   ],
   "metadata": {
    "collapsed": false,
    "pycharm": {
     "name": "#%% md\n"
    }
   }
  },
  {
   "cell_type": "markdown",
   "source": [
    "#### Import libraries and other dependencies"
   ],
   "metadata": {
    "collapsed": false,
    "pycharm": {
     "name": "#%% md\n"
    }
   }
  },
  {
   "cell_type": "code",
   "execution_count": null,
   "outputs": [],
   "source": [
    "import pandas as pd"
   ],
   "metadata": {
    "collapsed": false,
    "pycharm": {
     "name": "#%%\n"
    }
   }
  },
  {
   "cell_type": "markdown",
   "source": [
    "# Creating DataFrames\n",
    "A security position is a record of ownership that includes the purchase price and date. This information is necessary if you want to calculate how much profit was made on a stock. You can have multiple positions of the same stock, if you purchase it multiple times.\n",
    "<br>\n",
    "Use these positions of Apple stock to create DataFrames in this exercise:"
   ],
   "metadata": {
    "collapsed": false,
    "pycharm": {
     "name": "#%% md\n"
    }
   }
  },
  {
   "cell_type": "code",
   "execution_count": null,
   "outputs": [],
   "source": [
    "# Create dict holding the data\n",
    "data = {'Symbol': ['AAPL', 'AAPL', 'AAPL'],\n",
    "        'Price': [105.00, 117.05, 289.80],\n",
    "        'Date': ['2015/12/31', '2017/12/01', '2019/12/27']}\n",
    "\n",
    "# Create DataFrame from the data\n",
    "positions = pd.DataFrame(data=data)\n",
    "positions"
   ],
   "metadata": {
    "collapsed": false,
    "pycharm": {
     "name": "#%%\n"
    }
   }
  },
  {
   "cell_type": "code",
   "execution_count": null,
   "outputs": [],
   "source": [
    "# Make list of dictionaries\n",
    "data = [{'Symbol': 'AAPL', 'Price': 105.00, 'Date': '2015/12/31'},\n",
    "        {'Symbol': 'AAPL', 'Price': 117.05, 'Date': '2017/12/01'},\n",
    "        {'Symbol': 'AAPL', 'Price': 289.80, 'Date': '2019/12/27'}]\n",
    "\n",
    "# Create DataFrame from the list\n",
    "positions = pd.DataFrame(data=data)\n",
    "positions"
   ],
   "metadata": {
    "collapsed": false,
    "pycharm": {
     "name": "#%%\n"
    }
   }
  },
  {
   "cell_type": "code",
   "execution_count": null,
   "outputs": [],
   "source": [
    "# Create a list of lists\n",
    "data = [['AAPL', 105.00, '2015/12/31'],\n",
    "        ['AAPL', 117.05, '2017/12/01'],\n",
    "        ['AAPL', 289.80, '2019/12/27']]\n",
    "\n",
    "# Define the column names\n",
    "columns = ['Symbol', 'Price', 'Date']\n",
    "\n",
    "# Create a DataFrame with the data and column names\n",
    "positions = pd.DataFrame(data=data, columns=columns)\n",
    "positions"
   ],
   "metadata": {
    "collapsed": false,
    "pycharm": {
     "name": "#%%\n"
    }
   }
  },
  {
   "cell_type": "markdown",
   "source": [
    "# Reading market history\n",
    "Many data sources let you download data in the `.csv` file format. To understand a stocks' performance over time it is useful to analyze its history. Imagine that you want to analyze the history of a stocks' performance, looking at it closing prices for the last few months. The first thing you need to do is open the file as a `DataFrame`.\n",
    "<br>\n",
    "The path to the `.csv` file containing the data is `'../data/historical_quotes.csv'`."
   ],
   "metadata": {
    "collapsed": false,
    "pycharm": {
     "name": "#%% md\n"
    }
   }
  },
  {
   "cell_type": "code",
   "execution_count": null,
   "outputs": [],
   "source": [
    "stocks = pd.read_csv('../data/historical_quotes.csv', index_col='date') # the index was set to the date column.\n",
    "stocks.head(10)"
   ],
   "metadata": {
    "collapsed": false,
    "pycharm": {
     "name": "#%%\n"
    }
   }
  },
  {
   "cell_type": "markdown",
   "source": [
    "# Accessing Data\n",
    "One of the many strengths of Pandas DataFrames is the ability to access your data either as an individual value, a `column`, a `row`, or as another `DataFrame`."
   ],
   "metadata": {
    "collapsed": false,
    "pycharm": {
     "name": "#%% md\n"
    }
   }
  },
  {
   "cell_type": "markdown",
   "source": [
    "# Accessing using names\n",
    "In this exercise, you will access data that tracks an account over time. This account consists of wealth from both cash and equities.\n",
    "<br>\n",
    "The data is supplied in a `DataFrame` named `ledger` with the index set to dates, represented as strings. The data looks like this:"
   ],
   "metadata": {
    "collapsed": false,
    "pycharm": {
     "name": "#%% md\n"
    }
   }
  },
  {
   "cell_type": "code",
   "execution_count": null,
   "outputs": [],
   "source": [
    "# Create a list of lists\n",
    "data = [[0.0, -300.0, 1222.0],\n",
    "        [300.0, -200.0, 1322.0],\n",
    "        [-100.0, 700.0, 1922.0]]\n",
    "\n",
    "# Define the column names\n",
    "columns = ['Cash', 'Securities', 'Balance']\n",
    "date_index = ['2020-10-01', '2020-10-02', '2020-10-03']\n",
    "\n",
    "# Create DataFrame from the data\n",
    "ledger = pd.DataFrame(data=data, columns=columns, index=date_index)\n",
    "ledger"
   ],
   "metadata": {
    "collapsed": false,
    "pycharm": {
     "name": "#%%\n"
    }
   }
  },
  {
   "cell_type": "code",
   "execution_count": null,
   "outputs": [],
   "source": [
    "# Select the Balance for October 2nd. Use column and row names (.loc)\n",
    "ledger.loc['2020-10-02', 'Balance']"
   ],
   "metadata": {
    "collapsed": false,
    "pycharm": {
     "name": "#%%\n"
    }
   }
  },
  {
   "cell_type": "code",
   "execution_count": null,
   "outputs": [],
   "source": [
    "# Select the Balance for October 3rd Use column and row names (.loc)\n",
    "ledger.loc['2020-10-03', 'Balance']"
   ],
   "metadata": {
    "collapsed": false,
    "pycharm": {
     "name": "#%%\n"
    }
   }
  },
  {
   "cell_type": "code",
   "execution_count": null,
   "outputs": [],
   "source": [
    "# Cash and Securities for October 3rd\n",
    "ledger.loc['2020-10-03', ['Cash', 'Securities']]"
   ],
   "metadata": {
    "collapsed": false,
    "pycharm": {
     "name": "#%%\n"
    }
   }
  },
  {
   "cell_type": "code",
   "execution_count": null,
   "outputs": [],
   "source": [
    "# Balance for October 1st and 3rd\n",
    "ledger.loc[['2020-10-01', '2020-10-03'], 'Balance']"
   ],
   "metadata": {
    "collapsed": false,
    "pycharm": {
     "name": "#%%\n"
    }
   }
  },
  {
   "cell_type": "code",
   "execution_count": null,
   "outputs": [],
   "source": [
    "# All columns for October 1st\n",
    "ledger.loc['2020-10-01', :]"
   ],
   "metadata": {
    "collapsed": false,
    "pycharm": {
     "name": "#%%\n"
    }
   }
  },
  {
   "cell_type": "code",
   "execution_count": null,
   "outputs": [],
   "source": [
    "# Balance for all dates\n",
    "ledger.loc[:, 'Balance']"
   ],
   "metadata": {
    "collapsed": false,
    "pycharm": {
     "name": "#%%\n"
    }
   }
  },
  {
   "cell_type": "markdown",
   "source": [
    "# Accessing using indexes\n",
    "In this exercise, you will select and set stock positions using the numerical indexes of the rows and columns in a DataFrame. The provided DataFrame has this data:"
   ],
   "metadata": {
    "collapsed": false,
    "pycharm": {
     "name": "#%% md\n"
    }
   }
  },
  {
   "cell_type": "code",
   "execution_count": null,
   "outputs": [],
   "source": [
    "# Make list of dictionaries\n",
    "data = [{'Symbol': 'AAPL', 'Purchased': '2016-01-08', 'Quantity': 23, 'Price': 96.96},\n",
    "        {'Symbol': 'AAPL', 'Purchased': '2018-09-07', 'Quantity': 50, 'Price': 221.30},\n",
    "        {'Symbol': 'AMZN', 'Purchased': '2020-02-14', 'Quantity': 14, 'Price': 324095}]\n",
    "\n",
    "# Create DataFrame from the list\n",
    "positions = pd.DataFrame(data=data)\n",
    "positions"
   ],
   "metadata": {
    "collapsed": false,
    "pycharm": {
     "name": "#%%\n"
    }
   }
  },
  {
   "cell_type": "code",
   "execution_count": null,
   "outputs": [],
   "source": [
    "# Select the oldest price. Cell first row, Price column\n",
    "positions.iloc[0, 3]"
   ],
   "metadata": {
    "collapsed": false,
    "pycharm": {
     "name": "#%%\n"
    }
   }
  },
  {
   "cell_type": "code",
   "execution_count": null,
   "outputs": [],
   "source": [
    "# Select the newest symbol. Cell last row, Symbol column\n",
    "positions.iloc[-1, 0]"
   ],
   "metadata": {
    "collapsed": false,
    "pycharm": {
     "name": "#%%\n"
    }
   }
  },
  {
   "cell_type": "code",
   "execution_count": null,
   "outputs": [],
   "source": [
    "# Oldest two purchase dates\n",
    "positions.iloc[0:2, 1]"
   ],
   "metadata": {
    "collapsed": false,
    "pycharm": {
     "name": "#%%\n"
    }
   }
  },
  {
   "cell_type": "code",
   "execution_count": null,
   "outputs": [],
   "source": [
    "# Newest purchase and quantity\n",
    "positions.iloc[2, 1:3]"
   ],
   "metadata": {
    "collapsed": false,
    "pycharm": {
     "name": "#%%\n"
    }
   }
  },
  {
   "cell_type": "code",
   "execution_count": null,
   "outputs": [],
   "source": [
    "# Set 2020 quantity\n",
    "positions.iloc[2, 2] = 25\n",
    "positions"
   ],
   "metadata": {
    "collapsed": false,
    "pycharm": {
     "name": "#%%\n"
    }
   }
  },
  {
   "cell_type": "code",
   "execution_count": null,
   "outputs": [],
   "source": [
    "# Set all the quantity values to zero.\n",
    "positions.iloc[:, 2] = 0\n",
    "positions"
   ],
   "metadata": {
    "collapsed": false,
    "pycharm": {
     "name": "#%%\n"
    }
   }
  },
  {
   "cell_type": "markdown",
   "source": [
    "Understanding slicing using indexes is a great way of setting and accessing DataFrame data."
   ],
   "metadata": {
    "collapsed": false,
    "pycharm": {
     "name": "#%% md\n"
    }
   }
  },
  {
   "cell_type": "markdown",
   "source": [
    "# Aggregating and summarizing\n",
    "Once you have your data in a DataFrame, you will want to understand its characteristics. Let's look at some methods that Pandas DataFrames provide for aggregating and summarizing data."
   ],
   "metadata": {
    "collapsed": false,
    "pycharm": {
     "name": "#%% md\n"
    }
   }
  },
  {
   "cell_type": "code",
   "execution_count": null,
   "outputs": [],
   "source": [
    "# Create a list of lists\n",
    "data = [[299.22, 322.93, 330.49, 299.23],\n",
    "        [323.32, 349.21, 342.22, 299.23],\n",
    "        [300.22, 322.00, 299.23, 230.20],\n",
    "        [322.99, 330.49, 299.23, 230.20]]\n",
    "\n",
    "# Define the column names\n",
    "columns = ['OPEN', 'HIGH', 'LOW', 'CLOSE']\n",
    "date_index = ['2020-01-02', '2020-01-03', '2020-01-04', '2020-01-05']\n",
    "\n",
    "# Create a DataFrame with the data and column names\n",
    "prices = pd.DataFrame(data=data, columns=columns, index=date_index)\n",
    "prices"
   ],
   "metadata": {
    "collapsed": false,
    "pycharm": {
     "name": "#%%\n"
    }
   }
  },
  {
   "cell_type": "markdown",
   "source": [
    "# Mean prices\n",
    "When looking at stock prices it is useful to look at a prices not only over the course of multiple days, but at different points in the same data.\n",
    "<br>\n",
    "In this exercise you are given historical data for a stock prices in a DataFrame named `prices` (above). The DataFrame has the columns `OPEN`, `CLOSE`, `HI`, and `LOW`. You are trying to understand the trend of this stock's price by using the `mean` opening and closing prices. Is the `mean` opening price greater than the `mean` closing price?"
   ],
   "metadata": {
    "collapsed": false,
    "pycharm": {
     "name": "#%% md\n"
    }
   }
  },
  {
   "cell_type": "code",
   "execution_count": null,
   "outputs": [],
   "source": [
    "print(prices['OPEN'].mean())\n",
    "print(prices['CLOSE'].mean())"
   ],
   "metadata": {
    "collapsed": false,
    "pycharm": {
     "name": "#%%\n"
    }
   }
  },
  {
   "cell_type": "markdown",
   "source": [
    "# Median prices\n",
    "There are times when the `median` is a better tool than the `mean`.\n",
    "<br>\n",
    "Let's imagine that you are analyzing the stock data in the DataFrame `prices` again. You want to know if the stock's price is trending down by comparing the opening and closing prices.\n",
    "<br>\n",
    "Remember the DataFrame has the columns `OPEN`, `HI`, `LOW`, and `CLOSE`."
   ],
   "metadata": {
    "collapsed": false,
    "pycharm": {
     "name": "#%% md\n"
    }
   }
  },
  {
   "cell_type": "code",
   "execution_count": null,
   "outputs": [],
   "source": [
    "# Get the median of the opening prices\n",
    "med_open = prices.loc[:, 'OPEN'].median()\n",
    "print(f'median open: {med_open}')\n",
    "\n",
    "# Get the median of the closing prices\n",
    "med_close = prices.loc[:, 'CLOSE'].median()\n",
    "print(f'median close: {med_close}')\n",
    "\n",
    "if med_open > med_close:\n",
    "        print('Trending Down')"
   ],
   "metadata": {
    "collapsed": false,
    "pycharm": {
     "name": "#%%\n"
    }
   }
  },
  {
   "cell_type": "markdown",
   "source": [],
   "metadata": {
    "collapsed": false,
    "pycharm": {
     "name": "#%% md\n"
    }
   }
  },
  {
   "cell_type": "markdown",
   "source": [
    "# Extending and manipulating data\n",
    "You have already seen how to create `DataFrame`s and how to access the data they contain. Now let's look at extending and manipulating that data. Specifically, let us look at adding columns or rows to a `DataFrame`, and applying functions to a single column or whole `DataFrame`."
   ],
   "metadata": {
    "collapsed": false,
    "pycharm": {
     "name": "#%% md\n"
    }
   }
  },
  {
   "cell_type": "markdown",
   "source": [
    "# Creating new columns\n",
    "Personal consumption expenditures (PCE) are a measurement of consumer consumption useful in judging the state and direction of the economy. Pretend that you are a financial analyst at an investment fund tasked with calculating PCE. PCE is the sum of consumption by consumers of durable goods (PCDG), non-durable goods (PCND), and services (PCESV). Let's calculate PCE using the list `pcesv`, the `DataFrame` `pcnd`, and PCDG from a `.csv` file."
   ],
   "metadata": {
    "collapsed": false,
    "pycharm": {
     "name": "#%% md\n"
    }
   }
  },
  {
   "cell_type": "code",
   "execution_count": null,
   "outputs": [],
   "source": [
    "date_index_list = ['1929-01-01', '1930-01-01', '1931-01-01', '1932-01-01', '1933-01-01', '1934-01-01', '1935-01-01', '1936-01-01', '1937-01-01', '1938-01-01',\n",
    "                '1939-01-01', '1940-01-01', '1941-01-01', '1942-01-01', '1943-01-01', '1944-01-01', '1945-01-01', '1946-01-01', '1947-01-01', '1948-01-01',\n",
    "                '1949-01-01', '1950-01-01', '1951-01-01', '1952-01-01', '1953-01-01', '1954-01-01', '1955-01-01', '1956-01-01', '1957-01-01', '1958-01-01',\n",
    "                '1959-01-01', '1960-01-01', '1961-01-01', '1962-01-01', '1963-01-01', '1964-01-01', '1965-01-01', '1966-01-01', '1967-01-01', '1968-01-01',\n",
    "                '1969-01-01', '1970-01-01', '1971-01-01', '1972-01-01', '1973-01-01', '1974-01-01', '1975-01-01', '1976-01-01', '1977-01-01', '1978-01-01',\n",
    "                '1979-01-01', '1980-01-01', '1981-01-01', '1982-01-01', '1983-01-01', '1984-01-01', '1985-01-01', '1986-01-01', '1987-01-01', '1988-01-01',\n",
    "                '1989-01-01', '1990-01-01', '1991-01-01', '1992-01-01', '1993-01-01', '1994-01-01', '1995-01-01', '1996-01-01', '1997-01-01', '1998-01-01',\n",
    "                '1999-01-01', '2000-01-01', '2001-01-01', '2002-01-01', '2003-01-01', '2004-01-01', '2005-01-01', '2006-01-01', '2007-01-01', '2008-01-01',\n",
    "                '2009-01-01', '2010-01-01', '2011-01-01', '2012-01-01', '2013-01-01', '2014-01-01', '2015-01-01', '2016-01-01', '2017-01-01', '2018-01-01']\n",
    "\n",
    "pcesv_list = [33.613, 31.972, 28.963, 24.587, 22.189, 22.978, 24.305, 26.218, 28.466, 28.266,\n",
    "              29.287, 30.655, 33.624, 37.976, 43.57, 48.117, 52.354, 57.953, 62.423, 67.459,\n",
    "              70.252, 75.215, 83.591, 90.535, 97.905, 103.842, 110.89, 118.973, 126.693, 134.038,\n",
    "              144.523, 154.165, 162.667, 173.588, 183.88, 198.38, 213.298, 230.3, 247.695, 272.236,\n",
    "              298.96, 327.931, 357.821, 394.338, 432.939, 478.623, 539.213, 601.361, 673.591, 758.686,\n",
    "              847.482, 950.874, 1064.583, 1171.966, 1307.821, 1428.64, 1575.221, 1690.651, 1819.982, 1992.703,\n",
    "              2152.953, 2317.693, 2446.015, 2634.291, 2809.637, 2974.411, 3147.057, 3326.925, 3530.285, 3768.809,\n",
    "              3992.017, 4308.972, 4540.041, 4743.881, 5000.512, 5310.641, 5664.195, 6020.689, 6339.4, 6613.109,\n",
    "              6662.186, 6868.011, 7122.988, 7369.075, 7587.238, 7959.797, 8363.946, 8752.578, 9147.041, 9633.883]\n",
    "pcdg_list = [9.829, 7.661, 5.911, 3.959, 3.762, 4.564, 5.493, 6.749, 7.393, 6.123,\n",
    "             7.168, 8.287, 10.268, 7.63, 7.471, 7.743, 9.098, 17.114, 21.833, 24.453,\n",
    "             26.623, 32.445, 31.739, 31.243,  34.616, 33.713, 40.745, 40.169, 42.027, 39.53,\n",
    "             44.888, 45.625, 44.206, 49.465, 54.228, 59.556, 66.39, 71.745, 73.981, 84.828,\n",
    "             90.483, 89.988, 102.446, 116.444, 130.527, 130.177, 142.165, 168.624, 191.963, 213.348,\n",
    "             226.34, 226.391, 243.938, 253.032, 295.031, 342.156, 380.365,  421.439, 442.022, 475.053,\n",
    "             494.33, 497.079, 477.183, 508.081, 551.532, 607.171, 635.738, 676.295, 715.53, 779.293,\n",
    "             855.568, 912.572, 941.515, 985.368, 1017.801, 1080.574, 1128.61, 1158.333, 1188.043, 1098.761,\n",
    "             1012.121, 1048.962, 1093.499, 1144.221, 1189.413, 1242.075, 1305.897, 1352.645, 1412.57, 1475.585]\n",
    "\n",
    "pce = pd.DataFrame(index=date_index_list)\n",
    "# pce\n",
    "pcdg = pd.DataFrame(pcdg_list, index=date_index_list)\n",
    "# pcdg"
   ],
   "metadata": {
    "collapsed": false,
    "pycharm": {
     "name": "#%%\n"
    }
   }
  },
  {
   "cell_type": "code",
   "execution_count": null,
   "outputs": [],
   "source": [
    "# Use the list pcesv_list to create the column PCESV\n",
    "pce['PCESV'] = pcesv_list\n",
    "pce"
   ],
   "metadata": {
    "collapsed": false,
    "pycharm": {
     "name": "#%%\n"
    }
   }
  },
  {
   "cell_type": "code",
   "execution_count": null,
   "outputs": [],
   "source": [
    "# # Use the DataFrame pcnd to create the column PCND\n",
    "# pce['PCND'] = pcnd\n",
    "# pce"
   ],
   "metadata": {
    "collapsed": false,
    "pycharm": {
     "name": "#%%\n"
    }
   }
  },
  {
   "cell_type": "code",
   "execution_count": null,
   "outputs": [],
   "source": [
    "# # Create column for PCDG using Pandas read_csv\n",
    "# pce['PCDG'] = pd.read_csv('pcdg.csv', index_col='DATE')\n",
    "pce['PCDG'] = pcdg_list\n",
    "pce"
   ],
   "metadata": {
    "collapsed": false,
    "pycharm": {
     "name": "#%%\n"
    }
   }
  },
  {
   "cell_type": "code",
   "execution_count": null,
   "outputs": [],
   "source": [
    "# Create a column PCE by adding values from other columns\n",
    "# pce['PCE'] = pce['PCDG'] + pce['PCND'] + pce['PCESV']\n",
    "pce['PCE'] = pce['PCDG'] + pce['PCESV']\n",
    "pce.head()"
   ],
   "metadata": {
    "collapsed": false,
    "pycharm": {
     "name": "#%%\n"
    }
   }
  },
  {
   "cell_type": "markdown",
   "source": [
    "Good, you have created new columns in a `DataFrame` from a list, from another `DataFrame`, by reading a .csv file, and by operating on existing columns!"
   ],
   "metadata": {
    "collapsed": false,
    "pycharm": {
     "name": "#%% md\n"
    }
   }
  }
 ],
 "metadata": {
  "kernelspec": {
   "display_name": "Python 3",
   "language": "python",
   "name": "python3"
  },
  "language_info": {
   "codemirror_mode": {
    "name": "ipython",
    "version": 2
   },
   "file_extension": ".py",
   "mimetype": "text/x-python",
   "name": "python",
   "nbconvert_exporter": "python",
   "pygments_lexer": "ipython2",
   "version": "2.7.6"
  }
 },
 "nbformat": 4,
 "nbformat_minor": 0
}